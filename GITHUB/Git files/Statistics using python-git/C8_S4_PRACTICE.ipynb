{
 "cells": [
  {
   "cell_type": "markdown",
   "id": "93a96146-1c0f-4370-97d3-6ebfdffdaea9",
   "metadata": {},
   "source": [
    "# Students score analysis (task-1)"
   ]
  },
  {
   "cell_type": "code",
   "execution_count": 1,
   "id": "7b749fcb-0a41-4e68-8200-b9e2ab9cbdc5",
   "metadata": {},
   "outputs": [],
   "source": [
    "import math\n",
    "from scipy.stats import t\n",
    "import statistics as st\n",
    "import numpy as np\n",
    "import matplotlib.pyplot as plt"
   ]
  },
  {
   "cell_type": "markdown",
   "id": "fc01cdd3-1aa9-403c-becf-a1691921199b",
   "metadata": {},
   "source": [
    "H0: The mean score of the class test is less than or equal to 71. \n",
    "Ha: The mean score of the class test is greater than 71.\n",
    "one tailed right test"
   ]
  },
  {
   "cell_type": "markdown",
   "id": "da5a6b57-5b9f-49fe-a966-501a77b9b507",
   "metadata": {},
   "source": [
    "H0 : mu <= 71\n",
    "Ha : mu > 71"
   ]
  },
  {
   "cell_type": "code",
   "execution_count": 2,
   "id": "36ee5f6d-6263-4814-8542-861eda9613ab",
   "metadata": {},
   "outputs": [],
   "source": [
    "alpha = 0.1\n",
    "df = 5"
   ]
  },
  {
   "cell_type": "code",
   "execution_count": 3,
   "id": "fd6816cd-d9ae-4033-af46-39f558c118bd",
   "metadata": {},
   "outputs": [
    {
     "name": "stdout",
     "output_type": "stream",
     "text": [
      "The t-critical value is 1.4758840488558216\n"
     ]
    }
   ],
   "source": [
    "t_critical = t.ppf(1-alpha, df)\n",
    "print(\"The t-critical value is \"+str(t_critical))"
   ]
  },
  {
   "cell_type": "code",
   "execution_count": 4,
   "id": "a352e4bb-9649-4306-855d-d5f16e32fb46",
   "metadata": {},
   "outputs": [
    {
     "name": "stdout",
     "output_type": "stream",
     "text": [
      "sample size is : 6\n",
      "the sample mean is : 79.16666666666667\n",
      "the sample std is : 13.862419221285535\n"
     ]
    }
   ],
   "source": [
    "p_mean = 71\n",
    "sample_data = [61, 93, 75, 67, 84, 95]\n",
    "n = len(sample_data)\n",
    "print('sample size is :',n)\n",
    "s_mean = st.mean(sample_data)\n",
    "print('the sample mean is :',s_mean)\n",
    "s_std = st.stdev(sample_data)\n",
    "print('the sample std is :',s_std)"
   ]
  },
  {
   "cell_type": "code",
   "execution_count": 5,
   "id": "e2db3b41-67f4-4964-8015-30d1fbaa9be4",
   "metadata": {},
   "outputs": [
    {
     "name": "stdout",
     "output_type": "stream",
     "text": [
      "The t-statistic is  1.443050156931714\n",
      "The p_value is  0.10429845495147672\n"
     ]
    }
   ],
   "source": [
    "t_statistic = (s_mean - p_mean) / (s_std/math.sqrt(n)) \n",
    "print(\"The t-statistic is \", t_statistic)\n",
    "\n",
    "p_value = t.sf(abs(t_statistic),df)\n",
    "print(\"The p_value is \", p_value)"
   ]
  },
  {
   "cell_type": "code",
   "execution_count": 6,
   "id": "cddced1b-535b-4cee-a10d-aa9aa3b6822c",
   "metadata": {},
   "outputs": [
    {
     "data": {
      "image/png": "[encoded data removed]",
      "text/plain": [
       "<Figure size 640x480 with 1 Axes>"
      ]
     },
     "metadata": {},
     "output_type": "display_data"
    }
   ],
   "source": [
    "lower_p=s_mean-4*s_std\n",
    "upper_p=s_mean+4*s_std\n",
    "Arr=np.arange(-4,+4,0.1)\n",
    "t_value6=t.pdf(Arr,6)\n",
    "plt.plot(t_value6)\n",
    "plt.legend(['df=5'])\n",
    "plt.show()"
   ]
  },
  {
   "cell_type": "markdown",
   "id": "21f4af6d-235b-4ee3-a86b-6d25e0f09e3b",
   "metadata": {},
   "source": [
    "p_value = 0.104 > alpha = 0.1 : which leads to the acceptance of null hypothesis\n",
    "t_statistics = 1.443 < t_critical = 1.475 : which leads to the acceptance of null hypothesis"
   ]
  },
  {
   "cell_type": "markdown",
   "id": "3039d044-a6de-4456-89da-bfd7668149ff",
   "metadata": {},
   "source": [
    "# Students score analysis (task-2)"
   ]
  },
  {
   "cell_type": "markdown",
   "id": "cd1b42e2-170c-4f1a-b29e-eeb469d5a37f",
   "metadata": {},
   "source": [
    "H0: The mean scores of Batch-I and Batch-II are equal. \n",
    "Ha: The mean scores of Batch-I and Batch-II are not equal.   "
   ]
  },
  {
   "cell_type": "code",
   "execution_count": null,
   "id": "0f02baa5-02c4-437f-97df-472eb59bb39d",
   "metadata": {},
   "outputs": [],
   "source": [
    "H0: mu1 = mu2\n",
    "Ha: mu1 != mu2\n",
    "two tailed test"
   ]
  },
  {
   "cell_type": "code",
   "execution_count": 8,
   "id": "1b3b8902-f2e0-4003-958b-6db0cf0f54bc",
   "metadata": {},
   "outputs": [],
   "source": [
    "dof = 20  #(n1+n2-2=11+11-2)\n",
    "alpha = 0.1"
   ]
  },
  {
   "cell_type": "code",
   "execution_count": 9,
   "id": "0f45a51c-2fd5-4875-93cc-4bbb2c45b0bc",
   "metadata": {},
   "outputs": [
    {
     "name": "stdout",
     "output_type": "stream",
     "text": [
      "t-critical = 1.7247182429207857\n"
     ]
    }
   ],
   "source": [
    "t_critical = t.ppf(1-alpha/2, dof)   \n",
    "print('t-critical =',t_critical)"
   ]
  },
  {
   "cell_type": "code",
   "execution_count": 10,
   "id": "a71eac65-e733-45e2-9772-32e8e2b6a5ad",
   "metadata": {},
   "outputs": [],
   "source": [
    "Batch1 = [9,9,9,36,45,48,51,57,69,72,96]\n",
    "Batch2 = [60,39,39,60,79,96,69,60,75,45,90]"
   ]
  },
  {
   "cell_type": "code",
   "execution_count": 11,
   "id": "e84495a9-3135-4856-ae06-3637a166d943",
   "metadata": {},
   "outputs": [
    {
     "name": "stdout",
     "output_type": "stream",
     "text": [
      "Sample mean of Batch1 = 45.54545454545455\n",
      "Sample mean of Batch2 = 64.72727272727273\n",
      "Sample variance of Batch1 = 806.0727272727273\n",
      "Sample variance of Batch2 = 372.41818181818184\n",
      "Sample size of Batch1 = 11\n",
      "Sample size of Batch2 = 11\n",
      "Degrees of freedom = 20\n"
     ]
    }
   ],
   "source": [
    "x1=st.mean(Batch1)\n",
    "print(\"Sample mean of Batch1 =\",x1)\n",
    "x2=st.mean(Batch2)\n",
    "print(\"Sample mean of Batch2 =\",x2)\n",
    "v1=(st.stdev(Batch1))**2\n",
    "print(\"Sample variance of Batch1 =\",v1)\n",
    "v2=(st.stdev(Batch2))**2\n",
    "print(\"Sample variance of Batch2 =\",v2)\n",
    "n1=len(Batch1)\n",
    "print(\"Sample size of Batch1 =\",n1)\n",
    "n2=len(Batch2)\n",
    "print(\"Sample size of Batch2 =\",n2)\n",
    "df= n1+n2-2\n",
    "print('Degrees of freedom =',df)"
   ]
  },
  {
   "cell_type": "code",
   "execution_count": 12,
   "id": "c3fb69c9-a4fd-489c-ae69-099bc93e741e",
   "metadata": {},
   "outputs": [
    {
     "name": "stdout",
     "output_type": "stream",
     "text": [
      "t-statistic = 0.4143887882060245\n",
      "The p_value is  0.6830001107250747\n"
     ]
    }
   ],
   "source": [
    "noise = math.sqrt(v1*(n1-1) + v2*(n2-1))*math.sqrt(1/n1 + 1/n2)\n",
    "signal = abs(x1-x2)\n",
    "t_statistic=signal/noise\n",
    "print('t-statistic =',t_statistic)\n",
    "\n",
    "p_value=t.sf(abs(t_statistic),dof)*2\n",
    "print(\"The p_value is \", p_value)"
   ]
  },
  {
   "cell_type": "code",
   "execution_count": 13,
   "id": "edf95690-a023-44ee-b4ca-91b0f2d2b8d1",
   "metadata": {},
   "outputs": [
    {
     "data": {
      "text/plain": [
       "46.28942367108985"
      ]
     },
     "execution_count": 13,
     "metadata": {},
     "output_type": "execute_result"
    }
   ],
   "source": [
    "noise"
   ]
  },
  {
   "cell_type": "code",
   "execution_count": 14,
   "id": "577b7470-ddea-41c4-a3ab-7a31f106e903",
   "metadata": {},
   "outputs": [
    {
     "data": {
      "text/plain": [
       "19.181818181818187"
      ]
     },
     "execution_count": 14,
     "metadata": {},
     "output_type": "execute_result"
    }
   ],
   "source": [
    "signal"
   ]
  },
  {
   "cell_type": "code",
   "execution_count": 15,
   "id": "08ae0805-6035-477c-87c5-5f5e7983e044",
   "metadata": {},
   "outputs": [
    {
     "data": {
      "image/png": "[encoded data removed]",
      "text/plain": [
       "<Figure size 640x480 with 1 Axes>"
      ]
     },
     "metadata": {},
     "output_type": "display_data"
    }
   ],
   "source": [
    "Arr=np.arange(-4,+4,0.1)\n",
    "t_value20=t.pdf(Arr,20)\n",
    "plt.plot(t_value6)\n",
    "plt.legend(['dof=20'])\n",
    "plt.show()"
   ]
  },
  {
   "cell_type": "code",
   "execution_count": null,
   "id": "be3ed3c5-053e-4bf6-8597-e1c38928fc22",
   "metadata": {},
   "outputs": [],
   "source": []
  }
 ],
 "metadata": {
  "kernelspec": {
   "display_name": "Python 3 (ipykernel)",
   "language": "python",
   "name": "python3"
  },
  "language_info": {
   "codemirror_mode": {
    "name": "ipython",
    "version": 3
   },
   "file_extension": ".py",
   "mimetype": "text/x-python",
   "name": "python",
   "nbconvert_exporter": "python",
   "pygments_lexer": "ipython3",
   "version": "3.12.7"
  }
 },
 "nbformat": 4,
 "nbformat_minor": 5
}
