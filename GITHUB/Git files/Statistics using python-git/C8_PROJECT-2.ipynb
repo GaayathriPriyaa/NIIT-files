{
 "cells": [
  {
   "cell_type": "code",
   "execution_count": 1,
   "id": "f1be19e0-988b-4cfd-92f9-680291271e82",
   "metadata": {},
   "outputs": [
    {
     "ename": "ModuleNotFoundError",
     "evalue": "No module named 'matplotlib'",
     "output_type": "error",
     "traceback": [
      "\u001b[1;31m---------------------------------------------------------------------------\u001b[0m",
      "\u001b[1;31mModuleNotFoundError\u001b[0m                       Traceback (most recent call last)",
      "Cell \u001b[1;32mIn[1], line 2\u001b[0m\n\u001b[0;32m      1\u001b[0m \u001b[38;5;28;01mimport\u001b[39;00m \u001b[38;5;21;01mpandas\u001b[39;00m \u001b[38;5;28;01mas\u001b[39;00m \u001b[38;5;21;01mpd\u001b[39;00m\n\u001b[1;32m----> 2\u001b[0m \u001b[38;5;28;01mimport\u001b[39;00m \u001b[38;5;21;01mmatplotlib\u001b[39;00m\u001b[38;5;21;01m.\u001b[39;00m\u001b[38;5;21;01mpyplot\u001b[39;00m \u001b[38;5;28;01mas\u001b[39;00m \u001b[38;5;21;01mplt\u001b[39;00m\n\u001b[0;32m      3\u001b[0m \u001b[38;5;28;01mfrom\u001b[39;00m \u001b[38;5;21;01mscipy\u001b[39;00m\u001b[38;5;21;01m.\u001b[39;00m\u001b[38;5;21;01mstats\u001b[39;00m \u001b[38;5;28;01mimport\u001b[39;00m skew ,kurtosis,norm,t\n\u001b[0;32m      4\u001b[0m \u001b[38;5;28;01mimport\u001b[39;00m \u001b[38;5;21;01mnumpy\u001b[39;00m \u001b[38;5;28;01mas\u001b[39;00m \u001b[38;5;21;01mnp\u001b[39;00m\n",
      "\u001b[1;31mModuleNotFoundError\u001b[0m: No module named 'matplotlib'"
     ]
    }
   ],
   "source": [
    "import pandas as pd\n",
    "import matplotlib.pyplot as plt\n",
    "from scipy.stats import skew ,kurtosis,norm,t\n",
    "import numpy as np\n",
    "import math as m\n",
    "import statistics as st\n"
   ]
  },
  {
   "cell_type": "code",
   "execution_count": null,
   "id": "0c56d61c-06c9-46ac-865b-3cf024de92d3",
   "metadata": {
    "scrolled": true
   },
   "outputs": [],
   "source": [
    "df = pd.read_csv('DS1_C8_Computers_Data_Project.csv')\n",
    "df"
   ]
  },
  {
   "cell_type": "markdown",
   "id": "ea1d6d8c-d0d1-46c1-a09c-ad5a03c6f424",
   "metadata": {},
   "source": [
    "# Business Objective 4"
   ]
  },
  {
   "cell_type": "markdown",
   "id": "3c8b64b6-2263-4fdc-95a1-f047aaeeffb0",
   "metadata": {},
   "source": [
    "# task-1"
   ]
  },
  {
   "cell_type": "markdown",
   "id": "fff53b50-dd38-4f6d-8390-9300a5b74cfd",
   "metadata": {},
   "source": [
    "H0 : The mean advertising budget in 2023 is equal to or less than 2022.\n",
    "Ha : The mean advertising budget in 2023 is higher than 2022.\n",
    "right tailed test"
   ]
  },
  {
   "cell_type": "markdown",
   "id": "778f4d4b-cc27-4e9c-aede-cff99fb4322f",
   "metadata": {},
   "source": [
    "H0 : mu <= 221.3\n",
    "Ha : mu > 221.3"
   ]
  },
  {
   "cell_type": "code",
   "execution_count": null,
   "id": "e2764b3e-bf6d-4bcd-a68c-e4ef2bfa994e",
   "metadata": {
    "scrolled": true
   },
   "outputs": [],
   "source": [
    "Premium=df[df[\"premium\"]==\"yes\"]\n",
    "sample_40 = Premium.sample(n=40,replace=True,random_state=1)\n",
    "sample_40"
   ]
  },
  {
   "cell_type": "code",
   "execution_count": null,
   "id": "9f37d32d-85d1-4da5-a936-38917aef7055",
   "metadata": {},
   "outputs": [],
   "source": [
    "mu = 221.3\n",
    "n = 40\n",
    "alpha = 0.05\n",
    "s = 74.83\n",
    "x = st.mean(sample_40['ads_2023'])\n",
    "print('sample mean is :',x)"
   ]
  },
  {
   "cell_type": "code",
   "execution_count": null,
   "id": "ebba2240-da0a-40f6-a030-5bc46f05188f",
   "metadata": {},
   "outputs": [],
   "source": [
    "z_statistic = ((x-mu) / (s/m.sqrt(n)))\n",
    "print(\"The Z statistics is \", z_statistic)\n",
    "p_value = norm.sf(abs(z_statistic))  \n",
    "print(\"The p_value is \"+str(p_value))\n",
    "z_critical = norm.ppf(1-alpha)  \n",
    "print(\"The z-critical value is \"+str(z_critical))"
   ]
  },
  {
   "cell_type": "markdown",
   "id": "bae5d2a9-f1ee-40c6-abd5-9556d92a6471",
   "metadata": {},
   "source": [
    "If the calculated Z-statistic is greater than the Z-critical value or if the p-value is less than the significance level (alpha), you can reject the null hypothesis.\n",
    "\n",
    "1.  Z-statistic > Z-critical or\n",
    "2.   pvalue < alpha\n",
    "\n",
    "So, from the above analysis:\n",
    "p-value = 0.375 and alpha = 0.05 : pvalue > alpha : Accept the Null Hypothesis\n",
    "z-statistics = -0.304 , Z-critical = 1.644 : Z-statitics < Z-critical : Accept the Null Hypothesis\n",
    "\n",
    "Conclusion:\n",
    "There is insufficient evidence to conclude that the average advertising budget in 2023 is significantly higher than in 2022."
   ]
  },
  {
   "cell_type": "markdown",
   "id": "d3d6b715-9c48-4cd1-b333-d1acb41d8c7a",
   "metadata": {},
   "source": [
    "# task-2"
   ]
  },
  {
   "cell_type": "markdown",
   "id": "e122682a-d780-4ed2-a7fe-3110cd8caf7a",
   "metadata": {},
   "source": [
    "H0 : The average price of computers with CD players is equal to the average price of computers without CD players.\n",
    "Ha : The average price of computers with CD players is different from the average price of computers without CD players."
   ]
  },
  {
   "cell_type": "markdown",
   "id": "42a49b09-7e7f-4baf-91b2-2c231fe4afcf",
   "metadata": {},
   "source": [
    "H0 : mu = 0\n",
    "Ha : mu != 0\n",
    "this is a two-tailed test"
   ]
  },
  {
   "cell_type": "code",
   "execution_count": null,
   "id": "e0f2e34d-1dc7-4dfb-9465-acedd598c350",
   "metadata": {},
   "outputs": [],
   "source": [
    "with_cd=df[df[\"cd\"]==\"yes\"]\n",
    "with_cd"
   ]
  },
  {
   "cell_type": "code",
   "execution_count": null,
   "id": "c455f0db-2c34-46a0-aca6-a6211a0dcc00",
   "metadata": {},
   "outputs": [],
   "source": [
    "with_cd_mean = st.mean(with_cd['price'])\n",
    "print('Sample mean for computers with CD players is:',with_cd_mean)\n",
    "with_cd_std = st.stdev(with_cd['price'])\n",
    "print('Sample std for computers with CD players is:',with_cd_std)\n",
    "with_cd_var = with_cd_std ** 2\n",
    "print('Sample variance for computers with CD players is:',with_cd_var)\n",
    "n1 = len(with_cd['price'])\n",
    "n1"
   ]
  },
  {
   "cell_type": "code",
   "execution_count": null,
   "id": "7a253a96-6d5b-44d9-9b4c-cad37b9bcd27",
   "metadata": {},
   "outputs": [],
   "source": [
    "without_cd=df[df[\"cd\"]==\"no\"]\n",
    "without_cd"
   ]
  },
  {
   "cell_type": "code",
   "execution_count": null,
   "id": "e6d34a14-6639-4c20-91eb-f28bb7536d04",
   "metadata": {},
   "outputs": [],
   "source": [
    "without_cd_mean = st.mean(without_cd['price'])\n",
    "print('Sample mean for computers without CD players is:',without_cd_mean)\n",
    "without_cd_std = st.stdev(without_cd['price'])\n",
    "print('Sample std for computers without CD players is:',without_cd_std)\n",
    "without_cd_var = without_cd_std ** 2\n",
    "print('Sample variance for computers without CD players is:',without_cd_var)\n",
    "n2 = len(without_cd['price'])\n",
    "n2"
   ]
  },
  {
   "cell_type": "code",
   "execution_count": null,
   "id": "f8123dd0-0e62-4c5d-8069-21f207e88b6c",
   "metadata": {},
   "outputs": [],
   "source": [
    "s1_mean=2342.60\n",
    "s2_mean=2112.81\n",
    "alpha=0.05\n",
    "n1=2908\n",
    "n2=3351\n",
    "v1=278201.17\n",
    "v2=364205.29"
   ]
  },
  {
   "cell_type": "code",
   "execution_count": null,
   "id": "1515440d-3415-41e4-9fa2-bec5b8962ffc",
   "metadata": {},
   "outputs": [],
   "source": [
    "z_statistics = ((s1_mean -s2_mean)/(m.sqrt((v1/n1) + (v2/n2))))\n",
    "print(\"The Z statistics is \", z_statistics)\n",
    "p_value = norm.sf(abs(z_statistics)) * 2\n",
    "print(\"The p_value is \"+str(p_value))\n",
    "z_critical = norm.ppf(alpha/2) \n",
    "print(\"The z-critical value is \"+str(z_critical))\n",
    "alpha = 0.05"
   ]
  },
  {
   "cell_type": "markdown",
   "id": "2fc14e8b-cecb-4d46-b44d-b103e7e6740d",
   "metadata": {},
   "source": [
    "If the calculated Z-statistic is greater than the Z-critical value or if the p-value is less than the significance level (alpha), you can reject the null hypothesis.\n",
    "\n",
    "1.  Z-statistic > Z-critical or\n",
    "2.   pvalue < alpha\n",
    "\n",
    "So, from the above analysis:\n",
    "p-value = 3.843853986723333e-58 ~ 0 and alpha = 0.05 : pvalue < alpha : Reject the Null Hypothesis\n",
    "z-statistics = 16.074 , Z-critical = -1.959 : Z-statitics > Z-critical : Reject the Null Hypothesis\n",
    "\n",
    "Conclusion:\n",
    "There is a statistically significant difference in the average prices of computers with and without CD players."
   ]
  },
  {
   "cell_type": "markdown",
   "id": "326bf94e-cd27-4651-8b27-f81f0b47208f",
   "metadata": {},
   "source": [
    "# Business Objective 6"
   ]
  },
  {
   "cell_type": "markdown",
   "id": "e3c829bc-5195-4d1e-95c6-25ad4b559acc",
   "metadata": {},
   "source": [
    "# task-3(a)"
   ]
  },
  {
   "cell_type": "markdown",
   "id": "c0e5a733-651e-4af6-9589-279442386f91",
   "metadata": {},
   "source": [
    "H0 : The mean price of premium computers is equal to $2200\n",
    "Ha : The mean price of premium computers is not equal to $2200"
   ]
  },
  {
   "cell_type": "markdown",
   "id": "4a2ff91c-f7b0-4a03-b85b-841c0ab1b759",
   "metadata": {},
   "source": [
    "H0 : mu = 2200\n",
    "Ha : mu != 2200\n",
    "two tailed test\n",
    "since the sample size is less than 30 we use t-test"
   ]
  },
  {
   "cell_type": "code",
   "execution_count": null,
   "id": "62271331-d21d-4459-8696-d22738282d48",
   "metadata": {},
   "outputs": [],
   "source": [
    "Premium=df[df[\"premium\"]==\"yes\"]\n",
    "Premium\n",
    "\n",
    "dof=25-1\n",
    "print(\"The degree of Freedom is:\",dof)"
   ]
  },
  {
   "cell_type": "code",
   "execution_count": null,
   "id": "05d691c9-ed15-47b3-8a88-8de8fbac01ad",
   "metadata": {
    "scrolled": true
   },
   "outputs": [],
   "source": [
    "sample_25_p = Premium.sample(n=25,replace=True,random_state=1)\n",
    "sample_25_p"
   ]
  },
  {
   "cell_type": "code",
   "execution_count": null,
   "id": "bbed594a-0403-48e8-9bb3-c6794224800c",
   "metadata": {},
   "outputs": [],
   "source": [
    "sample_25_mean = st.mean(sample_25_p['price'])\n",
    "print(sample_25_mean)\n",
    "sample_25_std=st.stdev(sample_25_p[\"price\"])\n",
    "print(\"The standard deviation for the premium category is:\",sample_25_std)"
   ]
  },
  {
   "cell_type": "code",
   "execution_count": null,
   "id": "c865e67a-85d8-4b8d-9f0b-e7ba64899c0a",
   "metadata": {},
   "outputs": [],
   "source": [
    "p_mean = 2200\n",
    "#p_mean = 2204.14\n",
    "s_mean = 2113.08\n",
    "n = 25\n",
    "aplha = 0.05\n",
    "dof = 24\n",
    "s = 495.66"
   ]
  },
  {
   "cell_type": "code",
   "execution_count": null,
   "id": "fc238850-ec78-46bb-9253-7fc4dc537cbc",
   "metadata": {},
   "outputs": [],
   "source": [
    "t_statistic = (s_mean - p_mean) / (s/m.sqrt(n)) \n",
    "print(\"The t-statistic is \", t_statistic)\n",
    "p_value = t.sf(abs(t_statistic),dof)*2 # considering two tails\n",
    "print(\"The p_value is \", p_value)\n",
    "t_critical = t.ppf(alpha/2, dof)\n",
    "print(\"The t-critical value is \"+str(t_critical))"
   ]
  },
  {
   "cell_type": "markdown",
   "id": "8e5d3bf2-5669-41da-a524-6d06261909d8",
   "metadata": {},
   "source": [
    "p_value = 0.3892 > alpha = 0.05 : which leads to the acceptance of null hypothesis\n",
    "t_statistics = -0.876 < t_critical = 2.0638 : which leads to the acceptance of null hypothesis\n",
    "\n",
    "From this, we can conclude that there is no statistically significant difference between the mean price of premium computers and $2200."
   ]
  },
  {
   "cell_type": "markdown",
   "id": "f4e564f5-320c-4314-b734-3e3ca63b819e",
   "metadata": {},
   "source": [
    "# task-3(b)"
   ]
  },
  {
   "cell_type": "markdown",
   "id": "f34f335e-4215-47eb-a744-93591557e976",
   "metadata": {},
   "source": [
    "H0 : There is no significant difference in the mean prices of premium and non-premium computers.\n",
    "Ha : There is a significant difference in the mean prices of premium and non-premium computers."
   ]
  },
  {
   "cell_type": "markdown",
   "id": "45f81bc1-6c00-4966-9fa8-8c7377024d33",
   "metadata": {},
   "source": [
    "H0 : mu1 = mu2\n",
    "Ha : mu1 =! mu2\n",
    "this is a two tailed test"
   ]
  },
  {
   "cell_type": "code",
   "execution_count": null,
   "id": "cf3730f9-c6c3-4327-ac53-64ca4d8d2a0f",
   "metadata": {},
   "outputs": [],
   "source": [
    "Premium=df[df[\"premium\"]==\"yes\"]\n",
    "Premium"
   ]
  },
  {
   "cell_type": "code",
   "execution_count": null,
   "id": "f95b67cc-5b82-4668-8114-c7054b81f05b",
   "metadata": {},
   "outputs": [],
   "source": [
    "sample_25_p = Premium.sample(n=25,replace=True,random_state=1)\n",
    "sample_25_p"
   ]
  },
  {
   "cell_type": "code",
   "execution_count": null,
   "id": "6c4db3c6-1b4e-4932-a93a-b62fa0f8915b",
   "metadata": {},
   "outputs": [],
   "source": [
    "Premium_mean=st.mean(sample_25_p[\"price\"])\n",
    "print(\"The premium category mean is:\",Premium_mean)\n",
    "Premium_std=st.stdev(sample_25_p[\"price\"])\n",
    "print(\"The standard deviation for the premium category is:\",Premium_std)\n",
    "Premium_variance=Premium_std**2\n",
    "print(\"The variance for the premium Category is:\",Premium_variance)\n",
    "Premium_n=len(sample_25_p[\"price\"])\n",
    "print(\"The length for the premium category is:\",Premium_n)"
   ]
  },
  {
   "cell_type": "code",
   "execution_count": null,
   "id": "2b70ef1c-023b-4929-bd73-260976fbc449",
   "metadata": {
    "scrolled": true
   },
   "outputs": [],
   "source": [
    "non_Premium=df[df[\"premium\"]==\"no\"]\n",
    "non_Premium"
   ]
  },
  {
   "cell_type": "code",
   "execution_count": null,
   "id": "0b3a461c-d99d-4c79-b434-b371473d715f",
   "metadata": {
    "scrolled": true
   },
   "outputs": [],
   "source": [
    "sample_25_np = non_Premium.sample(n=25,replace=True,random_state=1)\n",
    "sample_25_np"
   ]
  },
  {
   "cell_type": "code",
   "execution_count": null,
   "id": "d139b6d5-d146-4554-bff6-03965dc0687b",
   "metadata": {},
   "outputs": [],
   "source": [
    "non_Premium_mean=st.mean(sample_25_np[\"price\"])\n",
    "print(\"The non-premium category mean is:\",non_Premium_mean)\n",
    "non_Premium_std=st.stdev(sample_25_np[\"price\"])\n",
    "print(\"The standard deviation for the non-premium category is:\",non_Premium_std)\n",
    "non_Premium_variance=non_Premium_std**2\n",
    "print(\"The variance for the non-premium Category is:\",non_Premium_variance)\n",
    "non_Premium_n=len(sample_25_np[\"price\"])\n",
    "print(\"The length for the non-premium category is:\",non_Premium_n)"
   ]
  },
  {
   "cell_type": "code",
   "execution_count": null,
   "id": "427a4a14-7f22-46a8-99e0-353fa04d9ebb",
   "metadata": {},
   "outputs": [],
   "source": [
    "x1 = Premium_mean\n",
    "x2 = non_Premium_mean\n",
    "v1 = Premium_variance\n",
    "v2 = non_Premium_variance\n",
    "df = 48\n",
    "alpha = 0.05\n",
    "n1 = Premium_n\n",
    "n2 = non_Premium_n"
   ]
  },
  {
   "cell_type": "code",
   "execution_count": null,
   "id": "48274470-553c-4a04-b7b5-76230e78c6bf",
   "metadata": {},
   "outputs": [],
   "source": [
    "noise = m.sqrt(v1*(n1-1) + v2*(n2-1))*m.sqrt(1/n1 + 1/n2)\n",
    "signal = abs(x1-x2)\n",
    "t_statistic=signal/noise\n",
    "print('t-statistic =',t_statistic)\n",
    "\n",
    "p_value=t.sf(abs(t_statistic),df)*2\n",
    "print(\"The p_value is \", p_value)\n",
    "\n",
    "t_critical = t.ppf(1-0.025, df)\n",
    "print('t-critical =',t_critical)"
   ]
  },
  {
   "cell_type": "markdown",
   "id": "f17ff29c-d2e0-474c-8630-14404743e449",
   "metadata": {},
   "source": [
    "p_value = 0.874 > alpha = 0.05 : which leads to the acceptance of null hypothesis\n",
    "t_statistics = 0.159 < t_critical = 2.01 : which leads to the acceptance of null hypothesis\n",
    "The average prices of premium and non-premium computers are not significantly different."
   ]
  }
 ],
 "metadata": {
  "kernelspec": {
   "display_name": "Python 3 (ipykernel)",
   "language": "python",
   "name": "python3"
  },
  "language_info": {
   "codemirror_mode": {
    "name": "ipython",
    "version": 3
   },
   "file_extension": ".py",
   "mimetype": "text/x-python",
   "name": "python",
   "nbconvert_exporter": "python",
   "pygments_lexer": "ipython3",
   "version": "3.13.1"
  }
 },
 "nbformat": 4,
 "nbformat_minor": 5
}
