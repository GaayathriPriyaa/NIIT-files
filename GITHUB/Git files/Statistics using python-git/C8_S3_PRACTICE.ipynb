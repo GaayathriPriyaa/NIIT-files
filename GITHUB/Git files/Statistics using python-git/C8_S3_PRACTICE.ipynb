{
 "cells": [
  {
   "cell_type": "code",
   "execution_count": 1,
   "id": "a3a104cf-b5af-4952-94c3-2a8781a206cf",
   "metadata": {},
   "outputs": [],
   "source": [
    "import math as m\n",
    "from scipy.stats import norm"
   ]
  },
  {
   "cell_type": "markdown",
   "id": "6d1c4aa5-334b-4cd2-b474-92a969f72262",
   "metadata": {},
   "source": [
    "# Real estate survey analysis"
   ]
  },
  {
   "cell_type": "code",
   "execution_count": null,
   "id": "cc4c40f3-1dd0-4917-8334-966216d10f97",
   "metadata": {},
   "outputs": [],
   "source": [
    "#TASK1(a)\n",
    "H0 : The mean rent per square feet for industrial spaces is 33.88\n",
    "Ha : The mean rent per square feet for industrial spaces has increased or decreased\n",
    "Two tailed test should be performed as we are checking for a change ie) increased or decreased"
   ]
  },
  {
   "cell_type": "code",
   "execution_count": null,
   "id": "4dcebf38-e0b2-480f-8da8-5b21c3bfc05a",
   "metadata": {},
   "outputs": [],
   "source": [
    "H0 : mu = 33.88\n",
    "Ha : mu !=33.88"
   ]
  },
  {
   "cell_type": "code",
   "execution_count": 2,
   "id": "acf62a84-51e0-4418-9e48-45dd616f2412",
   "metadata": {},
   "outputs": [],
   "source": [
    "#TASK1(b)\n",
    "mu = 33.88  #population mean\n",
    "S = 1.28   #standard deviation\n",
    "n = 49\n",
    "x = 32.18   #sample mean\n",
    "alpha = 0.05"
   ]
  },
  {
   "cell_type": "code",
   "execution_count": 3,
   "id": "c8677f0d-dce3-4191-bdcb-b327766038a3",
   "metadata": {},
   "outputs": [
    {
     "name": "stdout",
     "output_type": "stream",
     "text": [
      "The z-critical value is -1.9599639845400545\n"
     ]
    }
   ],
   "source": [
    "z_critical = norm.ppf(alpha/2)  \n",
    "print(\"The z-critical value is \"+str(z_critical))"
   ]
  },
  {
   "cell_type": "code",
   "execution_count": 6,
   "id": "cf7999ef-58bf-44d9-b792-e611d2760d50",
   "metadata": {},
   "outputs": [
    {
     "name": "stdout",
     "output_type": "stream",
     "text": [
      "The Z statistics is  -9.296875000000016\n"
     ]
    }
   ],
   "source": [
    "#TASK1(c)\n",
    "z_statistic = (x-mu) / (S/m.sqrt(n)) \n",
    "print(\"The Z statistics is \", z_statistic)"
   ]
  },
  {
   "cell_type": "code",
   "execution_count": 8,
   "id": "2042d467-2cb7-49ca-8289-e9570e8eb9a0",
   "metadata": {},
   "outputs": [
    {
     "name": "stdout",
     "output_type": "stream",
     "text": [
      "The p_value is 1.4463410868771357e-20\n"
     ]
    }
   ],
   "source": [
    "#TASK1(d)\n",
    "p_value = norm.sf(abs(z_statistic)) * 2 \n",
    "print(\"The p_value is \"+str(p_value))"
   ]
  },
  {
   "cell_type": "markdown",
   "id": "f0b6aba5-b7ad-4836-8f55-d4fa5608530c",
   "metadata": {},
   "source": [
    "#TASK1(e)\n",
    "Decision Rule: Reject the Null hypothesis\n",
    "\n",
    "If the calculated Z-statistic is greater than the Z-critical value or if the p-value is less than the significance level (alpha), you can reject the null hypothesis.\n",
    "\n",
    "1.  Z-statistic < Z-critical or\n",
    "2.   pvalue < alpha\n",
    "\n",
    "So, from the above analysis:\n",
    "p-value = 1.4463410868771357e-20 ~ 0 and alpha = 0.05 : pvalue < alpha : reject the Null Hypothesis\n",
    "z-statistics = -9.296 , Z-critical = 1.959 : Z-statitics < Z-critical : reject the Null Hypothesis\n",
    "\n",
    "Business Decision:\n",
    "So, we can conclude that the average rent per square foot for industrial spaces is not equal to $33.88 in 2020.\n",
    "There is a significant change in the rent prices for industrial spaces, and the hypothesis testing also identified the same."
   ]
  },
  {
   "cell_type": "markdown",
   "id": "160c47fe-5d3d-465d-95d8-55da00858263",
   "metadata": {},
   "source": [
    "# Sports metrics analysis"
   ]
  },
  {
   "cell_type": "code",
   "execution_count": null,
   "id": "4c7fe96a-e021-4d55-93e4-d46ad11f87fd",
   "metadata": {},
   "outputs": [],
   "source": [
    "#TASK2(a)\n",
    "H0: The mean throwing distance of Mac is still 85 yards\n",
    "H1: The mean throwing distance of Mac is now greater than 85 yards "
   ]
  },
  {
   "cell_type": "code",
   "execution_count": null,
   "id": "51fe69f4-7424-47be-95c7-d9038e6327a0",
   "metadata": {},
   "outputs": [],
   "source": [
    "H0 : mu = 85\n",
    "Ha : mu > 85\n",
    "one tailed right tailed test"
   ]
  },
  {
   "cell_type": "code",
   "execution_count": 9,
   "id": "d5e5882d-034f-48ef-9df6-a5b767a3b17a",
   "metadata": {},
   "outputs": [],
   "source": [
    "#TASK2(b)\n",
    "mu = 85  #population mean\n",
    "S = 2.1   #standard deviation\n",
    "n = 32\n",
    "x = 87.5   #sample mean\n",
    "alpha = 0.05"
   ]
  },
  {
   "cell_type": "code",
   "execution_count": 12,
   "id": "af0bdacd-b075-481b-9351-3fb8823ac4a9",
   "metadata": {},
   "outputs": [
    {
     "name": "stdout",
     "output_type": "stream",
     "text": [
      "The z-critical value is 1.6448536269514722\n"
     ]
    }
   ],
   "source": [
    "z_critical = norm.ppf(1-alpha)  \n",
    "print(\"The z-critical value is \"+str(z_critical))"
   ]
  },
  {
   "cell_type": "code",
   "execution_count": 14,
   "id": "c564b3cc-ae08-4097-ac97-7fec28b6e603",
   "metadata": {},
   "outputs": [
    {
     "name": "stdout",
     "output_type": "stream",
     "text": [
      "The Z statistics is  6.734350297014738\n"
     ]
    }
   ],
   "source": [
    "#TASK2(c)\n",
    "z_statistic = (x-mu) / (S/m.sqrt(n)) \n",
    "print(\"The Z statistics is \", z_statistic)"
   ]
  },
  {
   "cell_type": "code",
   "execution_count": 13,
   "id": "312f6651-9bcf-4359-aa49-0696d574e758",
   "metadata": {},
   "outputs": [
    {
     "name": "stdout",
     "output_type": "stream",
     "text": [
      "The p_value is 8.233201952582752e-12\n"
     ]
    }
   ],
   "source": [
    "#TASK2(d)\n",
    "p_value = norm.sf(abs(z_statistic)) \n",
    "print(\"The p_value is \"+str(p_value))"
   ]
  },
  {
   "cell_type": "markdown",
   "id": "423c860c-0113-46f6-bc57-dc2cc06e185a",
   "metadata": {},
   "source": [
    "#TASK2(e)\n",
    "Decision Rule: Reject the Null hypothesis\n",
    "\n",
    "If the calculated Z-statistic is greater than the Z-critical value or if the p-value is less than the significance level (alpha), you can reject the null hypothesis.\n",
    "\n",
    "1.  Z-statistic > Z-critical or\n",
    "2.   pvalue < alpha\n",
    "\n",
    "So, from the above analysis:\n",
    "p-value = 8.233201952582752e-12 ~ 0 and alpha = 0.05 : pvalue < alpha : reject the Null Hypothesis\n",
    "z-statistics = 6.734 , Z-critical = 1.644 : Z-statitics > Z-critical "
   ]
  },
  {
   "cell_type": "code",
   "execution_count": null,
   "id": "ecd89a75-e986-417c-ba32-049838b62eb5",
   "metadata": {},
   "outputs": [],
   "source": []
  }
 ],
 "metadata": {
  "kernelspec": {
   "display_name": "Python 3 (ipykernel)",
   "language": "python",
   "name": "python3"
  },
  "language_info": {
   "codemirror_mode": {
    "name": "ipython",
    "version": 3
   },
   "file_extension": ".py",
   "mimetype": "text/x-python",
   "name": "python",
   "nbconvert_exporter": "python",
   "pygments_lexer": "ipython3",
   "version": "3.12.7"
  }
 },
 "nbformat": 4,
 "nbformat_minor": 5
}
