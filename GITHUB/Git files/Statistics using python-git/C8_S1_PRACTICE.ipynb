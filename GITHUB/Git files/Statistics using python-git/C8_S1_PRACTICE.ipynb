{
 "cells": [
  {
   "cell_type": "code",
   "execution_count": 1,
   "id": "95e01381-455f-4367-b976-e44d35457e0d",
   "metadata": {},
   "outputs": [],
   "source": [
    "from itertools import permutations,combinations,combinations_with_replacement,product"
   ]
  },
  {
   "cell_type": "code",
   "execution_count": 2,
   "id": "bac01d82-4a67-42b6-847d-3cc624f0fd9f",
   "metadata": {},
   "outputs": [
    {
     "data": {
      "text/plain": [
       "120"
      ]
     },
     "execution_count": 2,
     "metadata": {},
     "output_type": "execute_result"
    }
   ],
   "source": [
    "#TASK1(a)\n",
    "men = ('M','M','M','M','M','M')\n",
    "cal_men = len(list(combinations(men,r=3)))\n",
    "cal_men\n",
    "women = ('W','W','W','W')\n",
    "cal_women = len(list(combinations(women,r=2)))\n",
    "cal_women\n",
    "committee = cal_men*cal_women\n",
    "committee"
   ]
  },
  {
   "cell_type": "code",
   "execution_count": 3,
   "id": "51b635a2-4a9c-43a9-a212-ff84112013b1",
   "metadata": {},
   "outputs": [
    {
     "data": {
      "text/plain": [
       "6"
      ]
     },
     "execution_count": 3,
     "metadata": {},
     "output_type": "execute_result"
    }
   ],
   "source": [
    "#TASK1(b)\n",
    "len(list(combinations(men,r=5)))"
   ]
  },
  {
   "cell_type": "code",
   "execution_count": 13,
   "id": "f4daa669-b7c0-4aa7-93dc-74db01e37b5b",
   "metadata": {},
   "outputs": [
    {
     "data": {
      "text/plain": [
       "66"
      ]
     },
     "execution_count": 13,
     "metadata": {},
     "output_type": "execute_result"
    }
   ],
   "source": [
    "#TASK1(c)\n",
    "#possibility-1\n",
    "majority_women1 = len(list(combinations(women,r=3)))\n",
    "majority_women1\n",
    "majority_men1 = len(list(combinations(men,r=2)))\n",
    "majority_men1\n",
    "possibility1 = majority_women1 * majority_men1\n",
    "possibility1\n",
    "\n",
    "#possibility-2\n",
    "majority_women2 = len(list(combinations(women,r=4)))\n",
    "majority_women2\n",
    "majority_men2 = len(list(combinations(men,r=1)))\n",
    "majority_men2\n",
    "possibility2 = majority_women2 * majority_men2\n",
    "possibility2\n",
    "\n",
    "result= possibility1 + possibility2\n",
    "result"
   ]
  },
  {
   "cell_type": "code",
   "execution_count": 5,
   "id": "aaaaec9a-90c2-49fe-b031-bf9a0b665b8c",
   "metadata": {},
   "outputs": [
    {
     "data": {
      "text/plain": [
       "2598960"
      ]
     },
     "execution_count": 5,
     "metadata": {},
     "output_type": "execute_result"
    }
   ],
   "source": [
    "#TASK2\n",
    "cards = list(range(52))\n",
    "len(list(combinations(cards,r=5)))"
   ]
  },
  {
   "cell_type": "code",
   "execution_count": 6,
   "id": "3b3293b2-c5c7-41cc-9449-ae078f2244f7",
   "metadata": {},
   "outputs": [
    {
     "data": {
      "text/plain": [
       "336"
      ]
     },
     "execution_count": 6,
     "metadata": {},
     "output_type": "execute_result"
    }
   ],
   "source": [
    "#TASK3\n",
    "contestants = ('Alice', 'Ava', 'Charlie', 'David', 'Eve', 'Frank', 'George', 'Mia')\n",
    "len(list(permutations(contestants,r=3)))"
   ]
  },
  {
   "cell_type": "code",
   "execution_count": 14,
   "id": "9edca076-2aa0-4abd-97fa-cf034bd06e3d",
   "metadata": {},
   "outputs": [
    {
     "name": "stdout",
     "output_type": "stream",
     "text": [
      "The number of ways the students can be arranged so Jenny and David are not together is: 1133317785600\n"
     ]
    }
   ],
   "source": [
    "#TASK4\n",
    "import math\n",
    "factorial_14 = math.factorial(14)\n",
    "factorial_15 = math.factorial(15)\n",
    "arrangements_not_together = factorial_14 * (15 - 2)\n",
    "\n",
    "print(f\"The number of ways the students can be arranged so Jenny and David are not together is: {arrangements_not_together}\")"
   ]
  },
  {
   "cell_type": "code",
   "execution_count": 8,
   "id": "85e6fc22-0784-4a9a-b14d-e9031029a42d",
   "metadata": {},
   "outputs": [
    {
     "data": {
      "text/plain": [
       "0.1111111111111111"
      ]
     },
     "execution_count": 8,
     "metadata": {},
     "output_type": "execute_result"
    }
   ],
   "source": [
    "#TASK5\n",
    "total_outcomes = 6*6\n",
    "possibilities = 4\n",
    "probability = possibilities / total_outcomes\n",
    "probability"
   ]
  },
  {
   "cell_type": "code",
   "execution_count": 16,
   "id": "612745ae-31f1-4dc3-a5c4-7edffef889d1",
   "metadata": {},
   "outputs": [
    {
     "data": {
      "text/plain": [
       "25200"
      ]
     },
     "execution_count": 16,
     "metadata": {},
     "output_type": "execute_result"
    }
   ],
   "source": [
    "#TASK6\n",
    "def fun(consonant,vowels,con_to_choose,vow_to_use):\n",
    "    con_combinations=math.comb(consonant,con_to_choose)\n",
    "    vol_combinations=math.comb(vowels,vow_to_choose)\n",
    "    permutations=math.factorial(con_to_choose+vow_to_choose)\n",
    "    total_words=con_combinations*vol_combinations*permutations\n",
    "    return total_words\n",
    "consonant=7\n",
    "vowels=4\n",
    "con_to_choose=3\n",
    "vow_to_choose=2\n",
    "fun(7,4,3,2)"
   ]
  },
  {
   "cell_type": "code",
   "execution_count": 17,
   "id": "3c1f5282-5371-44b0-85b6-1bf86c9e458a",
   "metadata": {},
   "outputs": [
    {
     "name": "stdout",
     "output_type": "stream",
     "text": [
      "6\n",
      "19\n",
      "\n",
      "24\n",
      "18\n"
     ]
    },
    {
     "data": {
      "text/plain": [
       "0.75"
      ]
     },
     "execution_count": 17,
     "metadata": {},
     "output_type": "execute_result"
    }
   ],
   "source": [
    "#TASK7\n",
    "total_bulbs=25\n",
    "d=round(25/100*25)\n",
    "n=total_bulbs-d\n",
    "print(d)\n",
    "print(n)\n",
    "print()\n",
    "# one bulb drwan randomly which is defective\n",
    "drawn_total=total_bulbs-1\n",
    "drawn_n=n-1\n",
    "print(drawn_total)\n",
    "print(drawn_n)\n",
    "# if one more bulb is drawn what is the probability that it is non_defective\n",
    "probabilty_non_defective=18/24\n",
    "probabilty_non_defective"
   ]
  },
  {
   "cell_type": "code",
   "execution_count": 19,
   "id": "cc66717c-d2b6-4249-8deb-61f6284c5c96",
   "metadata": {},
   "outputs": [
    {
     "data": {
      "text/plain": [
       "0.6609195402298851"
      ]
     },
     "execution_count": 19,
     "metadata": {},
     "output_type": "execute_result"
    }
   ],
   "source": [
    "#TASK8\n",
    "female_worker = 0.46\n",
    "part_time_f = 0.25\n",
    "part_time_worker = 0.174\n",
    "\n",
    "part_time_female = part_time_f * female_worker\n",
    "\n",
    "final = part_time_female/part_time_worker\n",
    "final"
   ]
  },
  {
   "cell_type": "code",
   "execution_count": 27,
   "id": "7733a9dd-3ca4-4dfa-9d5c-3d9b27d4d58c",
   "metadata": {},
   "outputs": [
    {
     "data": {
      "text/plain": [
       "0.8000000000000002"
      ]
     },
     "execution_count": 27,
     "metadata": {},
     "output_type": "execute_result"
    }
   ],
   "source": [
    "#TASK9\n",
    "n= 0.70\n",
    "s= 0.67\n",
    "s_n= 0.56\n",
    "\n",
    "probability= s_n/n\n",
    "probability"
   ]
  },
  {
   "cell_type": "code",
   "execution_count": null,
   "id": "83d7c591-7300-449a-b185-472e9215e056",
   "metadata": {},
   "outputs": [],
   "source": []
  }
 ],
 "metadata": {
  "kernelspec": {
   "display_name": "Python 3 (ipykernel)",
   "language": "python",
   "name": "python3"
  },
  "language_info": {
   "codemirror_mode": {
    "name": "ipython",
    "version": 3
   },
   "file_extension": ".py",
   "mimetype": "text/x-python",
   "name": "python",
   "nbconvert_exporter": "python",
   "pygments_lexer": "ipython3",
   "version": "3.13.1"
  }
 },
 "nbformat": 4,
 "nbformat_minor": 5
}
