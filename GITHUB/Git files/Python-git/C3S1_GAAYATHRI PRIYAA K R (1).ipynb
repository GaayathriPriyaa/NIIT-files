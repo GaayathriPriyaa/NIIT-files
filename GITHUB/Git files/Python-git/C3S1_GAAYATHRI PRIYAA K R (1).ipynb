{
 "cells": [
  {
   "cell_type": "code",
   "execution_count": 1,
   "id": "761572b8-81d5-493e-9704-cef4fa90bff9",
   "metadata": {},
   "outputs": [
    {
     "name": "stdout",
     "output_type": "stream",
     "text": [
      "42\n",
      "140706937716440\n",
      "<class 'int'>\n"
     ]
    }
   ],
   "source": [
    "#task1-a)\n",
    "rollno=42\n",
    "print(rollno)\n",
    "print(id(rollno))\n",
    "print(type(rollno))"
   ]
  },
  {
   "cell_type": "code",
   "execution_count": 5,
   "id": "31357a5a-8cba-434b-a882-858c51de4a7f",
   "metadata": {},
   "outputs": [
    {
     "name": "stdout",
     "output_type": "stream",
     "text": [
      "gaayathri\n",
      "2386922255920\n",
      "<class 'str'>\n"
     ]
    }
   ],
   "source": [
    "#b)\n",
    "firstname='gaayathri'\n",
    "print(firstname)\n",
    "print(id(firstname))\n",
    "print(type(firstname))"
   ]
  },
  {
   "cell_type": "code",
   "execution_count": 7,
   "id": "21a06c8a-8620-41b4-87f8-892418307547",
   "metadata": {},
   "outputs": [
    {
     "name": "stdout",
     "output_type": "stream",
     "text": [
      "priyaa\n",
      "2386902565920\n",
      "<class 'str'>\n"
     ]
    }
   ],
   "source": [
    "#c)\n",
    "lastname='priyaa'\n",
    "print(lastname)\n",
    "print(id(lastname))\n",
    "print(type(lastname))"
   ]
  },
  {
   "cell_type": "code",
   "execution_count": 9,
   "id": "2532e9c3-1aea-4d4b-979c-736babaa5220",
   "metadata": {},
   "outputs": [
    {
     "name": "stdout",
     "output_type": "stream",
     "text": [
      "50\n",
      "140706937716696\n",
      "<class 'int'>\n"
     ]
    }
   ],
   "source": [
    "#d)\n",
    "maxmarks=50\n",
    "print(maxmarks)\n",
    "print(id(maxmarks))\n",
    "print(type(maxmarks))"
   ]
  },
  {
   "cell_type": "code",
   "execution_count": 13,
   "id": "4036a83a-d7bc-40f4-8383-1bf795151838",
   "metadata": {},
   "outputs": [
    {
     "name": "stdout",
     "output_type": "stream",
     "text": [
      "2\n"
     ]
    }
   ],
   "source": [
    "#task2\n",
    "#a)\n",
    "var1=2\n",
    "print(var1)"
   ]
  },
  {
   "cell_type": "code",
   "execution_count": 15,
   "id": "3ee105f4-0c4b-46e8-9394-c7fbf4d98c34",
   "metadata": {},
   "outputs": [
    {
     "ename": "SyntaxError",
     "evalue": "invalid decimal literal (1983998360.py, line 2)",
     "output_type": "error",
     "traceback": [
      "\u001b[1;36m  Cell \u001b[1;32mIn[15], line 2\u001b[1;36m\u001b[0m\n\u001b[1;33m    2var=2\u001b[0m\n\u001b[1;37m    ^\u001b[0m\n\u001b[1;31mSyntaxError\u001b[0m\u001b[1;31m:\u001b[0m invalid decimal literal\n"
     ]
    }
   ],
   "source": [
    "#b)\n",
    "2var=2\n",
    "print(2var)\n",
    "# the variable cannot start with a number."
   ]
  },
  {
   "cell_type": "code",
   "execution_count": 17,
   "id": "d099d018-ac09-4d97-9488-352fb54b9e8c",
   "metadata": {},
   "outputs": [
    {
     "ename": "SyntaxError",
     "evalue": "invalid syntax (3392099513.py, line 2)",
     "output_type": "error",
     "traceback": [
      "\u001b[1;36m  Cell \u001b[1;32mIn[17], line 2\u001b[1;36m\u001b[0m\n\u001b[1;33m    var 1=2\u001b[0m\n\u001b[1;37m        ^\u001b[0m\n\u001b[1;31mSyntaxError\u001b[0m\u001b[1;31m:\u001b[0m invalid syntax\n"
     ]
    }
   ],
   "source": [
    "#c)\n",
    "var 1=2\n",
    "print(var 1=2)\n",
    "# there should not be any space in the variable."
   ]
  },
  {
   "cell_type": "code",
   "execution_count": 3,
   "id": "fc95e4bd-c3fa-4a64-b243-a21d1182c540",
   "metadata": {},
   "outputs": [
    {
     "ename": "SyntaxError",
     "evalue": "invalid syntax (2876457653.py, line 2)",
     "output_type": "error",
     "traceback": [
      "\u001b[1;36m  Cell \u001b[1;32mIn[3], line 2\u001b[1;36m\u001b[0m\n\u001b[1;33m    var$2=2\u001b[0m\n\u001b[1;37m       ^\u001b[0m\n\u001b[1;31mSyntaxError\u001b[0m\u001b[1;31m:\u001b[0m invalid syntax\n"
     ]
    }
   ],
   "source": [
    "#d)\n",
    "var$2=2\n",
    "print(var$2=2)\n",
    "# variables should ontain only alpha numberic values and underscores."
   ]
  },
  {
   "cell_type": "code",
   "execution_count": 21,
   "id": "3a77cd97-9da1-4305-b405-8a862fb53f3d",
   "metadata": {},
   "outputs": [
    {
     "name": "stdout",
     "output_type": "stream",
     "text": [
      "15\n"
     ]
    }
   ],
   "source": [
    "#task3\n",
    "#a)\n",
    "Class=15\n",
    "print(Class)"
   ]
  },
  {
   "cell_type": "code",
   "execution_count": 23,
   "id": "37d3e874-0e29-4794-a5b2-d531c27f3212",
   "metadata": {},
   "outputs": [
    {
     "ename": "SyntaxError",
     "evalue": "invalid syntax (2629877571.py, line 2)",
     "output_type": "error",
     "traceback": [
      "\u001b[1;36m  Cell \u001b[1;32mIn[23], line 2\u001b[1;36m\u001b[0m\n\u001b[1;33m    class=14\u001b[0m\n\u001b[1;37m         ^\u001b[0m\n\u001b[1;31mSyntaxError\u001b[0m\u001b[1;31m:\u001b[0m invalid syntax\n"
     ]
    }
   ],
   "source": [
    "#b)\n",
    "class=14\n",
    "print(class)\n",
    "# class is a keyword. the variables should not be as same as the keywords."
   ]
  },
  {
   "cell_type": "code",
   "execution_count": 25,
   "id": "4cf36c8c-ac9a-4ba6-ba31-c9533aa5a686",
   "metadata": {},
   "outputs": [
    {
     "name": "stdout",
     "output_type": "stream",
     "text": [
      "13\n"
     ]
    }
   ],
   "source": [
    "#c)\n",
    "DEF=13\n",
    "print(DEF)"
   ]
  },
  {
   "cell_type": "code",
   "execution_count": 27,
   "id": "0ecced6e-aa4a-47a6-b8c4-ab8720b2da9e",
   "metadata": {},
   "outputs": [
    {
     "ename": "SyntaxError",
     "evalue": "invalid syntax (183787704.py, line 2)",
     "output_type": "error",
     "traceback": [
      "\u001b[1;36m  Cell \u001b[1;32mIn[27], line 2\u001b[1;36m\u001b[0m\n\u001b[1;33m    def=12\u001b[0m\n\u001b[1;37m       ^\u001b[0m\n\u001b[1;31mSyntaxError\u001b[0m\u001b[1;31m:\u001b[0m invalid syntax\n"
     ]
    }
   ],
   "source": [
    "#d)\n",
    "def=12\n",
    "print(def)\n",
    "# def is a keyword. the variables should not be as same as the keywords."
   ]
  },
  {
   "cell_type": "code",
   "execution_count": 29,
   "id": "9138c732-167b-4304-9bba-ba635d9bd5b8",
   "metadata": {},
   "outputs": [
    {
     "ename": "NameError",
     "evalue": "name 'TRUE' is not defined",
     "output_type": "error",
     "traceback": [
      "\u001b[1;31m---------------------------------------------------------------------------\u001b[0m",
      "\u001b[1;31mNameError\u001b[0m                                 Traceback (most recent call last)",
      "Cell \u001b[1;32mIn[29], line 2\u001b[0m\n\u001b[0;32m      1\u001b[0m \u001b[38;5;66;03m#e)\u001b[39;00m\n\u001b[1;32m----> 2\u001b[0m a\u001b[38;5;241m=\u001b[39mTRUE\n\u001b[0;32m      3\u001b[0m \u001b[38;5;28mprint\u001b[39m(a)\n",
      "\u001b[1;31mNameError\u001b[0m: name 'TRUE' is not defined"
     ]
    }
   ],
   "source": [
    "#e)\n",
    "a=TRUE\n",
    "print(a)\n",
    "# TRUE is a boolean data type which cannot be entered as a value to a variable."
   ]
  },
  {
   "cell_type": "code",
   "execution_count": 31,
   "id": "64589823-8412-4149-8aa7-e3195d2b1a56",
   "metadata": {},
   "outputs": [
    {
     "ename": "NameError",
     "evalue": "name 'false' is not defined",
     "output_type": "error",
     "traceback": [
      "\u001b[1;31m---------------------------------------------------------------------------\u001b[0m",
      "\u001b[1;31mNameError\u001b[0m                                 Traceback (most recent call last)",
      "Cell \u001b[1;32mIn[31], line 2\u001b[0m\n\u001b[0;32m      1\u001b[0m \u001b[38;5;66;03m#f)\u001b[39;00m\n\u001b[1;32m----> 2\u001b[0m b\u001b[38;5;241m=\u001b[39mfalse\n\u001b[0;32m      3\u001b[0m \u001b[38;5;28mprint\u001b[39m(b)\n",
      "\u001b[1;31mNameError\u001b[0m: name 'false' is not defined"
     ]
    }
   ],
   "source": [
    "#f)\n",
    "b=false\n",
    "print(b)\n",
    "# false is a boolean data type which cannot be entered as a value to a variable."
   ]
  },
  {
   "cell_type": "code",
   "execution_count": 7,
   "id": "0bb02841-d2e3-43eb-b95b-841326c62c8c",
   "metadata": {},
   "outputs": [
    {
     "name": "stdout",
     "output_type": "stream",
     "text": [
      "78.9\n",
      "2514106520336\n",
      "<class 'float'>\n"
     ]
    }
   ],
   "source": [
    "#task4\n",
    "#a)\n",
    "marks=78.9\n",
    "print(marks)\n",
    "print(id(marks))\n",
    "print(type(marks))"
   ]
  },
  {
   "cell_type": "code",
   "execution_count": 9,
   "id": "a45f2a84-9fa1-4e3e-b519-46040cef7ecb",
   "metadata": {},
   "outputs": [
    {
     "name": "stdout",
     "output_type": "stream",
     "text": [
      "85.5\n",
      "2514137644304\n",
      "<class 'float'>\n"
     ]
    }
   ],
   "source": [
    "#b)\n",
    "marks=85.5\n",
    "print(marks)\n",
    "print(id(marks))\n",
    "print(type(marks))"
   ]
  },
  {
   "cell_type": "code",
   "execution_count": 37,
   "id": "a41f9f59-7033-4e0f-8157-c77413d48635",
   "metadata": {},
   "outputs": [],
   "source": [
    "#c) since the memory address for both the variables are different the values are also different.\n"
   ]
  },
  {
   "cell_type": "code",
   "execution_count": 11,
   "id": "6b65f8e4-d5e6-4aa7-81d9-ade69988431c",
   "metadata": {},
   "outputs": [
    {
     "name": "stdout",
     "output_type": "stream",
     "text": [
      "85.5 %\n"
     ]
    }
   ],
   "source": [
    "#task5\n",
    "#a)\n",
    "maxmarks=100\n",
    "print((marks/maxmarks)*100,'%')"
   ]
  },
  {
   "cell_type": "code",
   "execution_count": 43,
   "id": "67813b20-6348-4349-87ca-3ec40e9af508",
   "metadata": {},
   "outputs": [
    {
     "name": "stdout",
     "output_type": "stream",
     "text": [
      "gaayathri priyaa\n"
     ]
    }
   ],
   "source": [
    "#b)\n",
    "fullname=firstname+' '+lastname\n",
    "print(fullname)"
   ]
  },
  {
   "cell_type": "code",
   "execution_count": 47,
   "id": "f38496a0-5fe3-43df-be59-c677658f6484",
   "metadata": {},
   "outputs": [
    {
     "name": "stdout",
     "output_type": "stream",
     "text": [
      "gaayathri priyaa scored 85.5 %\n"
     ]
    }
   ],
   "source": [
    "#c)\n",
    "print(fullname,'scored',marks,'%')"
   ]
  },
  {
   "cell_type": "code",
   "execution_count": 49,
   "id": "3265d863-7a6c-41d4-b90d-afa0e64ebfd5",
   "metadata": {},
   "outputs": [
    {
     "ename": "TypeError",
     "evalue": "unsupported operand type(s) for +: 'int' and 'str'",
     "output_type": "error",
     "traceback": [
      "\u001b[1;31m---------------------------------------------------------------------------\u001b[0m",
      "\u001b[1;31mTypeError\u001b[0m                                 Traceback (most recent call last)",
      "Cell \u001b[1;32mIn[49], line 3\u001b[0m\n\u001b[0;32m      1\u001b[0m \u001b[38;5;66;03m#task6\u001b[39;00m\n\u001b[0;32m      2\u001b[0m \u001b[38;5;66;03m#a)\u001b[39;00m\n\u001b[1;32m----> 3\u001b[0m \u001b[38;5;28mprint\u001b[39m(\u001b[38;5;241m1\u001b[39m\u001b[38;5;241m+\u001b[39m\u001b[38;5;124m\"\u001b[39m\u001b[38;5;124m2\u001b[39m\u001b[38;5;124m\"\u001b[39m)\n",
      "\u001b[1;31mTypeError\u001b[0m: unsupported operand type(s) for +: 'int' and 'str'"
     ]
    }
   ],
   "source": [
    "#task6\n",
    "#a)\n",
    "print(1+\"2\")\n",
    "#  the variables should not be int and string. "
   ]
  },
  {
   "cell_type": "code",
   "execution_count": 51,
   "id": "c02481bc-ead5-4e03-a8af-ff8ce30a3525",
   "metadata": {},
   "outputs": [
    {
     "name": "stdout",
     "output_type": "stream",
     "text": [
      "12\n"
     ]
    }
   ],
   "source": [
    "#b)\n",
    "print(\"1\"+\"2\")\n",
    "# Concatenation of strings results in a single string.\n"
   ]
  },
  {
   "cell_type": "code",
   "execution_count": 53,
   "id": "c2bddcb0-239b-40aa-a9b8-52001811eb2a",
   "metadata": {},
   "outputs": [
    {
     "name": "stdout",
     "output_type": "stream",
     "text": [
      "0.5\n"
     ]
    }
   ],
   "source": [
    "#c)\n",
    "print(1/2)\n",
    "#  Division of numbers results in a floating-point number."
   ]
  },
  {
   "cell_type": "code",
   "execution_count": 55,
   "id": "f7a19468-a4a3-4b9e-9996-bd35bb0c3f9d",
   "metadata": {},
   "outputs": [
    {
     "name": "stdout",
     "output_type": "stream",
     "text": [
      "0\n"
     ]
    }
   ],
   "source": [
    "#d)\n",
    "print(1//2)\n",
    "# Floor division results in an integer by rounding down."
   ]
  },
  {
   "cell_type": "code",
   "execution_count": 57,
   "id": "af35ee88-c6f6-46d0-8f97-3fab9c370e68",
   "metadata": {},
   "outputs": [
    {
     "ename": "NameError",
     "evalue": "name 'true' is not defined",
     "output_type": "error",
     "traceback": [
      "\u001b[1;31m---------------------------------------------------------------------------\u001b[0m",
      "\u001b[1;31mNameError\u001b[0m                                 Traceback (most recent call last)",
      "Cell \u001b[1;32mIn[57], line 3\u001b[0m\n\u001b[0;32m      1\u001b[0m \u001b[38;5;66;03m#task7\u001b[39;00m\n\u001b[0;32m      2\u001b[0m \u001b[38;5;66;03m#a)\u001b[39;00m\n\u001b[1;32m----> 3\u001b[0m \u001b[38;5;28mprint\u001b[39m(true \u001b[38;5;129;01mand\u001b[39;00m true)\n",
      "\u001b[1;31mNameError\u001b[0m: name 'true' is not defined"
     ]
    }
   ],
   "source": [
    "#task7\n",
    "#a)\n",
    "print(True and True)\n",
    "#The and operator requires both operands to be true for the entire expression to be true. True is a keyword so the result shows error."
   ]
  },
  {
   "cell_type": "code",
   "execution_count": 59,
   "id": "9eb4cbc4-2b68-48a9-b949-db9754107241",
   "metadata": {},
   "outputs": [
    {
     "name": "stdout",
     "output_type": "stream",
     "text": [
      "False\n"
     ]
    }
   ],
   "source": [
    "#b)\n",
    "print(True and False)\n",
    "# The and operator requires both operands to be true. Since one operand is false, the result is False."
   ]
  },
  {
   "cell_type": "code",
   "execution_count": 61,
   "id": "1eecf34f-d6b5-41b2-a948-f3bbc03f6cee",
   "metadata": {},
   "outputs": [
    {
     "name": "stdout",
     "output_type": "stream",
     "text": [
      "True\n"
     ]
    }
   ],
   "source": [
    "#c)\n",
    "print(False or True)\n",
    "# The or operator requires at least one operand to be true for the entire expression to be true. In this case, one operand is true, so the result is True."
   ]
  },
  {
   "cell_type": "code",
   "execution_count": 63,
   "id": "0dc5b70f-82c8-4f22-9d07-e9047b0700e3",
   "metadata": {},
   "outputs": [
    {
     "name": "stdout",
     "output_type": "stream",
     "text": [
      "False\n"
     ]
    }
   ],
   "source": [
    "#d)\n",
    "print(False or False)\n",
    "# Both operands are false, so the or operator will result in False."
   ]
  },
  {
   "cell_type": "code",
   "execution_count": 65,
   "id": "e5ab542d-84d5-4240-81cf-63b6962444f5",
   "metadata": {},
   "outputs": [
    {
     "name": "stdout",
     "output_type": "stream",
     "text": [
      "True\n"
     ]
    }
   ],
   "source": [
    "#task8\n",
    "#a)\n",
    "print(firstname in fullname)\n",
    "# firstname is a part of fullname, so the result is True."
   ]
  },
  {
   "cell_type": "code",
   "execution_count": 67,
   "id": "bb0d3db9-325c-4088-9ffd-8fa67902ad4d",
   "metadata": {},
   "outputs": [
    {
     "name": "stdout",
     "output_type": "stream",
     "text": [
      "False\n"
     ]
    }
   ],
   "source": [
    "#b)\n",
    "print(firstname is fullname)\n",
    "# firstname and fullname are different objects in memory, even though they have the same value. Therefore, the result is False."
   ]
  },
  {
   "cell_type": "code",
   "execution_count": 69,
   "id": "28698021-279e-4cf7-ad99-75b2e149fde8",
   "metadata": {},
   "outputs": [
    {
     "name": "stdout",
     "output_type": "stream",
     "text": [
      "66\n",
      "1024\n"
     ]
    }
   ],
   "source": [
    "#task9\n",
    "a=4\n",
    "b=3\n",
    "c=2\n",
    "d=a**b+c\n",
    "e=a**(b+c)\n",
    "\n",
    "#a)\n",
    "print(d)\n",
    "#b)\n",
    "print(e)\n",
    "#c) The values of d and e are different. This difference arises due to the associativity of the exponentiation operator (**)."
   ]
  },
  {
   "cell_type": "code",
   "execution_count": null,
   "id": "50170e2d-34be-4210-9465-1dc1d23a44ce",
   "metadata": {},
   "outputs": [],
   "source": []
  }
 ],
 "metadata": {
  "kernelspec": {
   "display_name": "Python 3 (ipykernel)",
   "language": "python",
   "name": "python3"
  },
  "language_info": {
   "codemirror_mode": {
    "name": "ipython",
    "version": 3
   },
   "file_extension": ".py",
   "mimetype": "text/x-python",
   "name": "python",
   "nbconvert_exporter": "python",
   "pygments_lexer": "ipython3",
   "version": "3.12.4"
  }
 },
 "nbformat": 4,
 "nbformat_minor": 5
}
