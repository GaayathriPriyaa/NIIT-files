{
 "cells": [
  {
   "cell_type": "code",
   "execution_count": 9,
   "id": "2cc0777f-d9d9-4573-ba82-edd662df6252",
   "metadata": {},
   "outputs": [
    {
     "name": "stdin",
     "output_type": "stream",
     "text": [
      "enter a character: b\n"
     ]
    },
    {
     "name": "stdout",
     "output_type": "stream",
     "text": [
      "MySQL\n"
     ]
    }
   ],
   "source": [
    "#TASK1\n",
    "user=input('enter a character:')\n",
    "if user=='A' or user=='a':\n",
    "    print('Python')\n",
    "elif user=='B' or user=='b':\n",
    "    print('MySQL')\n",
    "elif user=='C' or user=='c':\n",
    "    print('Excel')\n",
    "else:\n",
    "    print('Holiday')"
   ]
  },
  {
   "cell_type": "code",
   "execution_count": 11,
   "id": "a8353941-f680-4486-be3f-ffc8a59fe4c0",
   "metadata": {},
   "outputs": [
    {
     "name": "stdin",
     "output_type": "stream",
     "text": [
      "enter a number: 6\n",
      "enter a number: 2\n"
     ]
    },
    {
     "name": "stdout",
     "output_type": "stream",
     "text": [
      "num1 is higher\n"
     ]
    }
   ],
   "source": [
    "#TASK2\n",
    "num1=int(input('enter a number:'))\n",
    "num2=int(input('enter a number:'))\n",
    "if num1>num2:\n",
    "    print ('num1 is higher')\n",
    "else:\n",
    "    print ('num2 is higher')"
   ]
  },
  {
   "cell_type": "code",
   "execution_count": 13,
   "id": "6bea74d0-1780-4e69-b5b0-bfbe809340b6",
   "metadata": {},
   "outputs": [
    {
     "name": "stdin",
     "output_type": "stream",
     "text": [
      "enter the basic salary 5000\n"
     ]
    },
    {
     "name": "stdout",
     "output_type": "stream",
     "text": [
      "gross_salary: 78000.0\n"
     ]
    }
   ],
   "source": [
    "#TASK3\n",
    "basic_salary=int(input('enter the basic salary'))\n",
    "if basic_salary<4000:\n",
    "    HRA=0.1 * basic_salary\n",
    "    TA=0.05 * basic_salary\n",
    "    print('gross_salary:',(basic_salary+HRA+TA)*12)\n",
    "elif basic_salary >4001 and basic_salary >10000:\n",
    "    HRA=0.1 * basic_salary\n",
    "    TA=0.1 *  basic_salary\n",
    "    print('gross_salary:',(basic_salary+HRA+TA)*12)\n",
    "else :\n",
    "    HRA=0.15 * basic_salary\n",
    "    TA=0.15 *  basic_salary\n",
    "    print('gross_salary:',(basic_salary+HRA+TA)*12)\n",
    "\n"
   ]
  },
  {
   "cell_type": "code",
   "execution_count": 17,
   "id": "0969dd80-898d-43e5-afbe-c976ddedf6d4",
   "metadata": {},
   "outputs": [
    {
     "name": "stdin",
     "output_type": "stream",
     "text": [
      "enter a word: Python\n"
     ]
    },
    {
     "name": "stdout",
     "output_type": "stream",
     "text": [
      "yes\n"
     ]
    }
   ],
   "source": [
    "#TASK4\n",
    "user=input('enter a word:')\n",
    "var = \"Python is an interpreted, high-level, general-purpose programming language. Its design philosophy emphasizes code readability, with its use of significant indentation. Its language constructs as well as its object-oriented approach aim to help programmers write clear, logical code for small and large-scale projects.\"\n",
    "if user in var:\n",
    "    print('yes')\n",
    "else:\n",
    "    print('no')"
   ]
  },
  {
   "cell_type": "code",
   "execution_count": 21,
   "id": "12f3af27-91a3-4175-a8ea-5609f236124e",
   "metadata": {},
   "outputs": [
    {
     "name": "stdin",
     "output_type": "stream",
     "text": [
      "enter an alphabet g\n"
     ]
    },
    {
     "name": "stdout",
     "output_type": "stream",
     "text": [
      "lowercase\n"
     ]
    }
   ],
   "source": [
    "#TASK5\n",
    "user=input('enter an alphabet')\n",
    "if user==user.upper():\n",
    "    print('UPPERCASE')\n",
    "else:\n",
    "    print('lowercase')"
   ]
  },
  {
   "cell_type": "code",
   "execution_count": 25,
   "id": "e3e4b297-7ccb-4051-8d91-d7d15c7e2a9f",
   "metadata": {},
   "outputs": [
    {
     "name": "stdin",
     "output_type": "stream",
     "text": [
      "enter an alphabet g\n"
     ]
    },
    {
     "name": "stdout",
     "output_type": "stream",
     "text": [
      "consonant\n"
     ]
    }
   ],
   "source": [
    "#TASK6\n",
    "user=input('enter an alphabet')\n",
    "c=('a','e','i','o','u','A','E','I','O','U')\n",
    "if user in c:\n",
    "    print('vowel')\n",
    "else:\n",
    "    print('consonant')"
   ]
  },
  {
   "cell_type": "code",
   "execution_count": null,
   "id": "f35769b4-434f-46af-8a4c-1a00b590ae7b",
   "metadata": {},
   "outputs": [],
   "source": []
  }
 ],
 "metadata": {
  "kernelspec": {
   "display_name": "Python 3 (ipykernel)",
   "language": "python",
   "name": "python3"
  },
  "language_info": {
   "codemirror_mode": {
    "name": "ipython",
    "version": 3
   },
   "file_extension": ".py",
   "mimetype": "text/x-python",
   "name": "python",
   "nbconvert_exporter": "python",
   "pygments_lexer": "ipython3",
   "version": "3.12.4"
  }
 },
 "nbformat": 4,
 "nbformat_minor": 5
}
