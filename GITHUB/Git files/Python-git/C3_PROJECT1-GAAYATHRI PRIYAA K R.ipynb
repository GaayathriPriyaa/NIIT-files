{
 "cells": [
  {
   "cell_type": "code",
   "execution_count": null,
   "id": "d3de3ed7-433c-43a6-818b-c024e1611b0a",
   "metadata": {},
   "outputs": [
    {
     "name": "stdout",
     "output_type": "stream",
     "text": [
      "Welcome to Game\n",
      "Riddle Questions:\n",
      "I have cities but no houses, mountains but no trees, and water but no fish. What am I?\n"
     ]
    },
    {
     "name": "stdin",
     "output_type": "stream",
     "text": [
      "Enter answer: a map\n"
     ]
    },
    {
     "name": "stdout",
     "output_type": "stream",
     "text": [
      "Correct\n",
      "Riddle Questions:\n",
      "I have a voice but cannot speak, a bed but cannot sleep. What am I?\n"
     ]
    },
    {
     "name": "stdin",
     "output_type": "stream",
     "text": [
      "Enter answer: a book\n"
     ]
    },
    {
     "name": "stdout",
     "output_type": "stream",
     "text": [
      "Correct\n",
      "Riddle Questions:\n",
      "What goes up but never comes down?\n"
     ]
    }
   ],
   "source": [
    "#TASK1\n",
    "from abc import ABC,abstractmethod\n",
    "import random\n",
    "class playgame(ABC):\n",
    "    @abstractmethod\n",
    "    def __init__(self):\n",
    "        self.no_of_puzzle=0\n",
    "        self.no_of_correct_ans=0\n",
    "    @abstractmethod\n",
    "    def play_game(self):\n",
    "        pass\n",
    "class riddle(playgame):\n",
    "    def __init__(self):\n",
    "        super().__init__()\n",
    "        self.riddle={\"The more of this there is, the less you see. What is it?\":\"darkness\",\n",
    "                     \"What goes up but never comes down?\":\"age\",\n",
    "                     \"I have cities but no houses, mountains but no trees, and water but no fish. What am I?\": \"a map\",\n",
    "                     \"I come without being called, stay without being invited, leave without being pushed. What am I?\": \"a shadow\",\n",
    "                     \"I have a voice but cannot speak, a bed but cannot sleep. What am I?\": \"a book\",\n",
    "                     \"I am always coming, but never arriving. What am I?\": \"tomorrow\",\n",
    "                    }\n",
    "        \n",
    "    def play_game(self):\n",
    "        print(\"Welcome to Game\")\n",
    "        while True:\n",
    "            self.no_of_correct_ans=0\n",
    "            p=list(self.riddle.items()) if isinstance(self.riddle, dict) else self.riddle\n",
    "            random_riddle = random.sample(p,3)\n",
    "            for question,ans in random_riddle:\n",
    "                print(\"Riddle Questions:\")\n",
    "                print(question)\n",
    "                answer=input(\"Enter answer:\")\n",
    "            \n",
    "                if answer==ans:\n",
    "                    print(\"Correct\")\n",
    "                    self.no_of_correct_ans+=1\n",
    "                else:\n",
    "                    print(f\"Incorrect. The correct answer is '{ans}'\")\n",
    "                self.no_of_puzzle += 1\n",
    "            if self.no_of_puzzle > 0:\n",
    "                print(f\"Your total score :{self.no_of_correct_ans}/{self.no_of_puzzle}\")\n",
    "                print(f\"\\nYour score: {self.no_of_correct_ans / self.no_of_puzzle * 100:.2f}%\")\n",
    "                print(\"-----------------------------------------------\")\n",
    "            else:\n",
    "                print(\"\\nNo riddles were answered.\")\n",
    "            choice=input(\"Do you want to play again?(yes/no)yes for playing again and no for playing next game textpuzzle game:\")\n",
    "            if choice.lower()=='no':\n",
    "                print(\"Thank you! see you again...\")\n",
    "                print(\"-----------------------------------------------\")\n",
    "                break\n",
    "class textbasedpuzzle(playgame):\n",
    "    \n",
    "    def __init__(self):\n",
    "        super().__init__()\n",
    "        self.textpuzzle={'apelp':'apple',\n",
    "                         'dfrine':'friend',\n",
    "                         'ohenp':'phone',\n",
    "                         'oowl':'wool',\n",
    "                         'arbed':'bread',\n",
    "                         'owdinw':'window',}\n",
    "                         \n",
    "    def play_game(self):\n",
    "        print(\"Welcome to Text Puzzle Game\")\n",
    "        while True:\n",
    "            self.no_of_correct_ans=0\n",
    "            p=list(self.textpuzzle.items()) if isinstance(self.textpuzzle, dict) else self.textpuzzle    #converting dict to list and checking it is \n",
    "            random_word = random.sample(p,3)      #randomly taking three value from the list\n",
    "            for question,answer in random_word:\n",
    "                print(\"Text based questions;\")\n",
    "                print(f\"unscramble the word: {question}\")\n",
    "                ans=input(\"Enter answer: \")\n",
    "                if answer==ans:\n",
    "                    print(\"Correct\")\n",
    "                    self.no_of_correct_ans+=1\n",
    "                else:\n",
    "                    print(\"Incorrect answer,The correct answer is \",answer)\n",
    "                self.no_of_puzzle+=1\n",
    "            if self.no_of_puzzle>0:\n",
    "                print(f\"Your total score :{self.no_of_correct_ans}/3\")\n",
    "                print(f\"\\nYour score: {self.no_of_correct_ans / 3 * 100:.2f}%\")\n",
    "                print(\"-----------------------------------------------\")\n",
    "            else:\n",
    "                print(\"\\nNot answered any questions.\")\n",
    "            choice1=input(\"Do you want to play again?(yes/no):\")\n",
    "            if choice1.lower()=='no':\n",
    "                print(\"Thank you! see you again...\")\n",
    "                break\n",
    "r=riddle()\n",
    "r.play_game()  \n",
    "tp=textbasedpuzzle()\n",
    "tp.play_game()"
   ]
  },
  {
   "cell_type": "code",
   "execution_count": 10,
   "id": "aa983029-fa36-4802-b3da-90a32c3642ea",
   "metadata": {},
   "outputs": [
    {
     "name": "stdout",
     "output_type": "stream",
     "text": [
      "Welcome to Maths Logic Puzzle game:\n",
      "questions:\n",
      " 19 + 19 Note:if you get division please round of the value to small like 1.934 to 1\n"
     ]
    },
    {
     "name": "stdin",
     "output_type": "stream",
     "text": [
      "Enter Answer: 21\n"
     ]
    },
    {
     "name": "stdout",
     "output_type": "stream",
     "text": [
      "Incorrect answer. The correct answer is 38\n"
     ]
    },
    {
     "name": "stdin",
     "output_type": "stream",
     "text": [
      "Do you want to play again?(yes/no): yes\n"
     ]
    },
    {
     "name": "stdout",
     "output_type": "stream",
     "text": [
      "questions:\n",
      " 6 * 8 Note:if you get division please round of the value to small like 1.934 to 1\n"
     ]
    },
    {
     "name": "stdin",
     "output_type": "stream",
     "text": [
      "Enter Answer: 48\n"
     ]
    },
    {
     "name": "stdout",
     "output_type": "stream",
     "text": [
      "Correct\n"
     ]
    },
    {
     "name": "stdin",
     "output_type": "stream",
     "text": [
      "Do you want to play again?(yes/no): no\n"
     ]
    },
    {
     "name": "stdout",
     "output_type": "stream",
     "text": [
      "-----------------------------------------------\n",
      "Your total score :1/2\n",
      "\n",
      "Your score: 50.00%\n",
      "-----------------------------------------------\n",
      "Thank you! see you again...\n"
     ]
    }
   ],
   "source": [
    "#TASK2\n",
    "import random\n",
    "class logicpuzzle:\n",
    "    def __init__(self):\n",
    "        print(\"Welcome to Maths Logic Puzzle game:\")\n",
    "        self.operators = ['+', '-', '*', '//']\n",
    "        self.no_of_correct_ans=0\n",
    "        self.no_of_puzzle=0\n",
    "\n",
    "    def puzzle(self):\n",
    "        a = random.randint(1, 20)\n",
    "        b = random.randint(1, 20)\n",
    "        op = random.choice(self.operators\n",
    "\n",
    "        if op =='+':\n",
    "            answer= a + b\n",
    "        elif op =='-':\n",
    "            answer= a - b\n",
    "        elif op =='*':\n",
    "            answer = a * b\n",
    "        elif op =='//':\n",
    "            answer= a // b   # i gave floor divisor to round the value with lessnumber\n",
    "        return a, b, op, answer\n",
    "\n",
    "def main():\n",
    "    lp = logicpuzzle()\n",
    "    \n",
    "    while True:\n",
    "        a, b, op, answer = lp.puzzle()\n",
    "        print(f\"questions:\\n {a} {op} {b} Note:if you get division please round of the value to small like 1.934 to 1\")\n",
    "        try:\n",
    "            ans = int(input(\"Enter Answer:\"))\n",
    "            if ans == answer:\n",
    "                print(\"Correct\")\n",
    "                lp.no_of_correct_ans += 1\n",
    "            else:\n",
    "                print(f\"Incorrect answer. The correct answer is {answer}\")\n",
    "            lp.no_of_puzzle += 1\n",
    "        except ValueError as e:\n",
    "            print(f\"Error: {e}\")\n",
    "            \n",
    "        choice1 = input(\"Do you want to play again?(yes/no):\")\n",
    "        if choice1.lower() == 'no':\n",
    "            break\n",
    "    if lp.no_of_puzzle > 0:\n",
    "        print(\"-----------------------------------------------\")\n",
    "        print(f\"Your total score :{lp.no_of_correct_ans}/{lp.no_of_puzzle}\")\n",
    "        print(f\"\\nYour score: {lp.no_of_correct_ans / lp.no_of_puzzle * 100:.2f}%\")\n",
    "        print(\"-----------------------------------------------\")\n",
    "        print(\"Thank you! see you again...\")\n",
    "    else:\n",
    "        print(\"\\nNot answered any questions.\")\n",
    "\n",
    "if __name__ == '__main__':\n",
    "    main()"
   ]
  },
  {
   "cell_type": "code",
   "execution_count": 24,
   "id": "f5f60efe-1dea-4e58-86ac-758f21d28588",
   "metadata": {},
   "outputs": [
    {
     "name": "stdout",
     "output_type": "stream",
     "text": [
      "Welcome to the Game\n",
      "Options are:\n",
      "                1. Science\n",
      "                2. Mathematics\n",
      "                3. Geography\n",
      "                4. Others\n"
     ]
    },
    {
     "name": "stdin",
     "output_type": "stream",
     "text": [
      "Enter your choice: mathematics\n"
     ]
    },
    {
     "name": "stdout",
     "output_type": "stream",
     "text": [
      "Question : What is the only even prime number?\n"
     ]
    },
    {
     "name": "stdin",
     "output_type": "stream",
     "text": [
      "Enter Answer: 2\n"
     ]
    },
    {
     "name": "stdout",
     "output_type": "stream",
     "text": [
      "Correct\n",
      "Question : What is the sum of first 5 natural numbers?\n"
     ]
    },
    {
     "name": "stdin",
     "output_type": "stream",
     "text": [
      "Enter Answer: 15\n"
     ]
    },
    {
     "name": "stdout",
     "output_type": "stream",
     "text": [
      "Correct\n",
      "Question : What is the name of the mathematical symbol π\n"
     ]
    },
    {
     "name": "stdin",
     "output_type": "stream",
     "text": [
      "Enter Answer: pie\n"
     ]
    },
    {
     "name": "stdout",
     "output_type": "stream",
     "text": [
      "Incorrect answer, The correct answer is Pi\n",
      "The Score is 2 / 3\n",
      "The Total percentage is 66.67%\n"
     ]
    },
    {
     "name": "stdin",
     "output_type": "stream",
     "text": [
      "Do you want to play one more time (yes/no):  no\n"
     ]
    },
    {
     "name": "stdout",
     "output_type": "stream",
     "text": [
      "Thank you!\n"
     ]
    }
   ],
   "source": [
    "#TASK3\n",
    "class qus:\n",
    "    def __init__(self,question,answer):\n",
    "        self.question=question\n",
    "        self.answer=answer\n",
    "class quizgame:\n",
    "    print(\"Welcome to the Game\")\n",
    "    def __init__(self):\n",
    "        self.subject={\n",
    "            'Science':[qus('Which gas do plants absorb during photosynthesis?','Carbondioxide'),                       \n",
    "                       qus('What is the full form of WWW?','Worldwideweb'),\n",
    "                       qus('How many bones are there in the adult human body?','206')],\n",
    "            'Mathematics':[qus('What is the only even prime number?','2'),\n",
    "                           qus('What is the sum of first 5 natural numbers?','15'),\n",
    "                           qus('What is the name of the mathematical symbol π','Pi')],\n",
    "            'Geography':[qus('What is the tallest mountain range on Earth?','Everest'),\n",
    "                         qus('What is the capital of France?','Paris'),\n",
    "                         qus('Which planet is called Red Planet?','Mars')],\n",
    "            'Others':[qus('Which country won the most recent FIFA world cup as of 2022?','Argentina'),\n",
    "                      qus('Who invented the light bulb?','Edison'),\n",
    "                      qus('In what year did India declare itself a Democratic and Republic state with adoption of consitution?','1950')]   #qus refering the class qus \n",
    "        }\n",
    "        self.no_of_correct_ans=0\n",
    "        self.no_of_totalquestion=0\n",
    "    def ask_category(self):\n",
    "        print(\"\"\"Options are:\n",
    "                1. Science\n",
    "                2. Mathematics\n",
    "                3. Geography\n",
    "                4. Others\"\"\")\n",
    "        ch=input(\"Enter your choice:\").capitalize()\n",
    "        return ch\n",
    "    def ask_question(self,qus):                      #passed the class instance as arugument \n",
    "        print(\"Question :\",qus.question)\n",
    "        try:\n",
    "            self.ans=input(\"Enter Answer:\").capitalize()\n",
    "        except Exception:\n",
    "            print(\"Error: Unexpeted error\")\n",
    "    def check_answer(self,qus):\n",
    "        if self.ans.capitalize()==qus.answer:\n",
    "            print(\"Correct\")\n",
    "            self.no_of_correct_ans+=1\n",
    "        else:\n",
    "            print(\"Incorrect answer, The correct answer is\",qus.answer)\n",
    "        self.no_of_totalquestion+=1\n",
    "    def display_score(self):\n",
    "        print(\"The Score is\",self.no_of_correct_ans,'/',self.no_of_totalquestion)\n",
    "        print(f\"The Total percentage is {(self.no_of_correct_ans/self.no_of_totalquestion) *100:.2f}%\")\n",
    "    \n",
    "    \n",
    "    def play_game(self):\n",
    "        subject1=self.ask_category()\n",
    "        if subject1 not in self.subject:\n",
    "            print(\"Invalid subject!, Please choose from above listed subject.\")\n",
    "            self.ask_category()\n",
    "        q1=self.subject[subject1]\n",
    "        for i in q1:\n",
    "            self.ask_question(i)\n",
    "            self.check_answer(i)\n",
    "        self.display_score()\n",
    "        play_again = input(\"Do you want to play one more time (yes/no): \")\n",
    "        if play_again.lower() == \"yes\":\n",
    "            self.no_of_correct_ans = 0\n",
    "            self.no_of_totalquestion = 0\n",
    "            print(\"-------------------------------\")\n",
    "            self.play_game()\n",
    "        print(\"Thank you!\")\n",
    "if __name__ == \"__main__\":\n",
    "    qz = quizgame()\n",
    "    qz.play_game()\n",
    "    "
   ]
  },
  {
   "cell_type": "code",
   "execution_count": 30,
   "id": "2f09a4eb-f297-4725-8e78-256bdf0e4164",
   "metadata": {},
   "outputs": [
    {
     "name": "stdout",
     "output_type": "stream",
     "text": [
      "Welcome to Rock Paper Scissor Game\n",
      "\n",
      "Options are:\n",
      "                1.rock\n",
      "                2.paper\n",
      "                3.scissor\n"
     ]
    },
    {
     "name": "stdin",
     "output_type": "stream",
     "text": [
      "Enter your choice: scissor\n"
     ]
    },
    {
     "name": "stdout",
     "output_type": "stream",
     "text": [
      "Same choice, Hence tied\n"
     ]
    },
    {
     "name": "stdin",
     "output_type": "stream",
     "text": [
      "Do you want to play again?(yes/no): no\n"
     ]
    },
    {
     "name": "stdout",
     "output_type": "stream",
     "text": [
      "Thank you!, Exited the game\n"
     ]
    }
   ],
   "source": [
    "#TASK4\n",
    "import random\n",
    "class rps:\n",
    "    def __init__(self):\n",
    "        self.option=['rock','paper','scissor']\n",
    "    def game(self):\n",
    "        print(\"Welcome to Rock Paper Scissor Game\\n\")\n",
    "        while True:\n",
    "            comp_choice=random.choice(self.option)                 #used  random.choice this choose one random string from list\n",
    "            print(\"\"\"Options are:\n",
    "                1.rock\n",
    "                2.paper\n",
    "                3.scissor\"\"\")\n",
    "            choice=input(\"Enter your choice:\").lower()\n",
    "           \n",
    "            if choice==comp_choice:\n",
    "                print(\"Same choice, Hence tied\")\n",
    "            elif choice=='rock':\n",
    "                if comp_choice=='paper':\n",
    "                    print(f\"You Loose! {comp_choice} beats {choice}\")\n",
    "                else:\n",
    "                    print(f\"You Win! {choice} beats {comp_choice}\")\n",
    "            elif choice=='paper':\n",
    "                if comp_choice=='rock':\n",
    "                    print(f\"You Win! {choice} beats {comp_choice}\")\n",
    "                else:\n",
    "                    print(f\"You Loose! {comp_choice} beats {choice}\")\n",
    "            elif choice=='scissor':\n",
    "                if comp_choice=='rock':\n",
    "                    print(f\"You Loose! {comp_choice} beats {choice}\")\n",
    "                else:\n",
    "                    print(f\"You Win! {choice} beats {comp_choice}\")\n",
    "            pa=input(\"Do you want to play again?(yes/no):\")                         \n",
    "            if pa!='yes':\n",
    "                print(\"Thank you!, Exited the game\")\n",
    "                break\n",
    "r=rps()\n",
    "r.game()\n",
    "        "
   ]
  },
  {
   "cell_type": "code",
   "execution_count": 36,
   "id": "04c820e9-7691-4e3b-be28-b8c5b3ada635",
   "metadata": {},
   "outputs": [
    {
     "name": "stdout",
     "output_type": "stream",
     "text": [
      "Welcome to Rock Paper Scissor multiplayer games:\n",
      "\n"
     ]
    },
    {
     "name": "stdin",
     "output_type": "stream",
     "text": [
      "Hello User1!, Enter your name: hi\n",
      "Hello User2!, Enter your name: ki\n"
     ]
    },
    {
     "name": "stdout",
     "output_type": "stream",
     "text": [
      "Option are:\n",
      "                1.rock\n",
      "                2.paper\n",
      "                3.scissor\n"
     ]
    },
    {
     "name": "stdin",
     "output_type": "stream",
     "text": [
      "Hi enter your choice: rock\n",
      "Ki enter your choice: paper\n"
     ]
    },
    {
     "name": "stdout",
     "output_type": "stream",
     "text": [
      "You Loose! rock beats paper\n"
     ]
    },
    {
     "name": "stdin",
     "output_type": "stream",
     "text": [
      "Do you want to play again?(yes/no): no\n"
     ]
    },
    {
     "name": "stdout",
     "output_type": "stream",
     "text": [
      "Thank you! Excited the game\n"
     ]
    }
   ],
   "source": [
    "#TASK5\n",
    "class twouser:\n",
    "    def __init__(self):\n",
    "        print(\"Welcome to Rock Paper Scissor multiplayer games:\\n\")\n",
    "        self.user1=input(\"Hello User1!, Enter your name:\").capitalize()\n",
    "        self.user2=input(\"Hello User2!, Enter your name:\").capitalize()\n",
    "        self.options=['rock','paper','scissor']\n",
    "    def game(self):\n",
    "        \n",
    "        while True:\n",
    "            print(\"\"\"Option are:\n",
    "                1.rock\n",
    "                2.paper\n",
    "                3.scissor\"\"\")\n",
    "            ch_user1=input(f\"{self.user1} enter your choice:\")\n",
    "            if ch_user1 not in self.options:\n",
    "                print(\"Invalid option, please select from above option:\")\n",
    "                self.game()\n",
    "            ch_user2=input(f\"{self.user2} enter your choice:\")\n",
    "            if ch_user2 not in self.options:\n",
    "                print(\"Invalid option, please select from above option:\")\n",
    "                self.game()\n",
    "            if ch_user1==ch_user2:\n",
    "                print(\"Same choice, Hence tied\")\n",
    "            elif ch_user1=='rock':\n",
    "                if ch_user2=='paper':\n",
    "                    print(f\"You Loose! {ch_user1} beats {ch_user2}\")\n",
    "                else:\n",
    "                    print(f\"You Win! {ch_user1} beats {ch_user2}\")\n",
    "            elif ch_user1=='paper':\n",
    "                if ch_user2=='rock':\n",
    "                    print(f\"You Win! {ch_user1} beats {ch_user2}\")\n",
    "                else:\n",
    "                    print(f\"You Loose! {ch_user1} beats {ch_user2}\")\n",
    "            elif ch_user1=='scissor':\n",
    "                if ch_user2=='rock':\n",
    "                    print(f\"You Loose! {ch_user1} beats {ch_user2}\")\n",
    "                else:\n",
    "                    print(f\"You Win! {ch_user1} beats {ch_user2}\")\n",
    "            pl=input(\"Do you want to play again?(yes/no):\")\n",
    "            if pl!='yes':\n",
    "                print(\"Thank you! Excited the game\")\n",
    "                break\n",
    "tu=twouser()\n",
    "tu.game()no\n"
   ]
  },
  {
   "cell_type": "code",
   "execution_count": null,
   "id": "22eb6a19-0db2-4988-9e52-7a0ff4db20f4",
   "metadata": {},
   "outputs": [],
   "source": []
  }
 ],
 "metadata": {
  "kernelspec": {
   "display_name": "Python 3 (ipykernel)",
   "language": "python",
   "name": "python3"
  },
  "language_info": {
   "codemirror_mode": {
    "name": "ipython",
    "version": 3
   },
   "file_extension": ".py",
   "mimetype": "text/x-python",
   "name": "python",
   "nbconvert_exporter": "python",
   "pygments_lexer": "ipython3",
   "version": "3.12.4"
  }
 },
 "nbformat": 4,
 "nbformat_minor": 5
}
