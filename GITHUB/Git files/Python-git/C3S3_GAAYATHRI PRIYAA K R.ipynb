{
 "cells": [
  {
   "cell_type": "code",
   "execution_count": 12,
   "id": "01b16893-29fa-4f8e-bdbb-5d0af164300d",
   "metadata": {},
   "outputs": [
    {
     "name": "stdout",
     "output_type": "stream",
     "text": [
      "FALSE\n"
     ]
    }
   ],
   "source": [
    "#task1\n",
    "mynames =  [\"Joe\", \"Zoe\", \"world\", \"Brad\", \"Angelina\", \"world\", \"Zuki\", \"Tom\", \"Paris\", \"world\", \"magic\"]\n",
    "if 'USA' in mynames:\n",
    "    print(\"TRUE\")\n",
    "else:\n",
    "    print(\"FALSE\")"
   ]
  },
  {
   "cell_type": "code",
   "execution_count": 22,
   "id": "1678458b-a866-4b98-99d8-74273a6b7c20",
   "metadata": {},
   "outputs": [
    {
     "name": "stdout",
     "output_type": "stream",
     "text": [
      "the number of times the data item world is present: {3}\n"
     ]
    }
   ],
   "source": [
    "#task2\n",
    "mynames =  [\"Joe\", \"Zoe\", \"world\", \"Brad\", \"Angelina\", \"world\", \"Zuki\", \"Tom\", \"Paris\", \"world\", \"magic\"]\n",
    "count = 0\n",
    "for i in mynames:\n",
    "    if i == \"world\":\n",
    "        count=count+1\n",
    "print(f\"the number of times the data item world is present:\",{count})"
   ]
  },
  {
   "cell_type": "code",
   "execution_count": 5,
   "id": "06f83a6e-04aa-4410-8ed6-b8a06cb53b4f",
   "metadata": {},
   "outputs": [
    {
     "name": "stdout",
     "output_type": "stream",
     "text": [
      "Total number of even numbers: 14 Total number of odd numbers: 15\n"
     ]
    }
   ],
   "source": [
    "#task3\n",
    "numlist = list(range(1,30))\n",
    "count_even = 0\n",
    "count_odd = 0\n",
    "for i in numlist:\n",
    "    if i%2==0:\n",
    "      count_even+=1\n",
    "    else:\n",
    "        count_odd+=1\n",
    "print('Total number of even numbers:',count_even,'Total number of odd numbers:',count_odd)    \n",
    "    "
   ]
  },
  {
   "cell_type": "code",
   "execution_count": 19,
   "id": "e9f0394d-a67d-471f-9625-75e987bfcc40",
   "metadata": {},
   "outputs": [
    {
     "name": "stdout",
     "output_type": "stream",
     "text": [
      "2\n",
      "4\n",
      "6\n",
      "8\n",
      "10\n",
      "[2, 4, 6, 8, 10]\n"
     ]
    }
   ],
   "source": [
    "#task4\n",
    "numlist = list(range(1,30))\n",
    "el = []\n",
    "count=0\n",
    "for i in numlist:\n",
    "    if i%2==0:\n",
    "        count+=1\n",
    "        print(i)\n",
    "        el.append(i)\n",
    "    if count == 5:\n",
    "          break\n",
    "print(el)        "
   ]
  },
  {
   "cell_type": "code",
   "execution_count": 33,
   "id": "169b42f7-cf43-41e5-a6f2-b5c1f20cdc41",
   "metadata": {},
   "outputs": [
    {
     "name": "stdout",
     "output_type": "stream",
     "text": [
      "29\n",
      "27\n"
     ]
    }
   ],
   "source": [
    "#task5\n",
    "numlist = list(range(1,30))\n",
    "count = 0\n",
    "for i in range(30,1,-1):\n",
    "    if i%2!=0:\n",
    "        count+=1\n",
    "        print(i)\n",
    "    if count == 2:\n",
    "        break\n"
   ]
  },
  {
   "cell_type": "code",
   "execution_count": 3,
   "id": "fa1d1977-b69d-45a3-8e6b-633d24c0509c",
   "metadata": {},
   "outputs": [
    {
     "name": "stdin",
     "output_type": "stream",
     "text": [
      "enter a string ram\n",
      "enter a string jaanu\n",
      "enter a string gaayu\n",
      "enter a string chennai\n",
      "enter a string niit\n",
      "enter a number 2\n",
      "enter a number 3\n",
      "enter a number 4\n"
     ]
    },
    {
     "name": "stdout",
     "output_type": "stream",
     "text": [
      "['ram', 'jaanu', 'gaayu', 'chennai', 'niit', 2, 3, 4]\n"
     ]
    }
   ],
   "source": [
    "# task 6\n",
    "x=[]\n",
    "y=[]\n",
    "for i in range(5):\n",
    "    string = input(\"enter a string\")\n",
    "    x.append(string)\n",
    "for j in range(3):\n",
    "    value = int(input(\"enter a number\"))\n",
    "    y.append(value)\n",
    "for z in y:\n",
    "    x.append(z)\n",
    "print(x)\n"
   ]
  },
  {
   "cell_type": "code",
   "execution_count": 9,
   "id": "621d1064-bc55-4cca-9b48-51925d25cbc6",
   "metadata": {},
   "outputs": [
    {
     "name": "stdout",
     "output_type": "stream",
     "text": [
      "list_a = [1, 4, 9, 16, 25, 36, 49, 64, 81, 100]\n",
      "list_b = [900, 961, 1024, 1089, 1156, 1225, 1296, 1369, 1444, 1521, 1600]\n"
     ]
    }
   ],
   "source": [
    "# task-7\n",
    "a=[]\n",
    "b=[]\n",
    "for x in range(1,11):\n",
    "    a.append(x**2)\n",
    "print(\"list_a =\",a)\n",
    "for y in range(30,41):\n",
    "    b.append(y**2)\n",
    "print(\"list_b =\",b)"
   ]
  },
  {
   "cell_type": "code",
   "execution_count": 11,
   "id": "43357218-4634-4321-aceb-d5093b4ca8ab",
   "metadata": {},
   "outputs": [
    {
     "name": "stdin",
     "output_type": "stream",
     "text": [
      "enter a number for table 6\n"
     ]
    },
    {
     "name": "stdout",
     "output_type": "stream",
     "text": [
      "6*1=6\n",
      "6*2=12\n",
      "6*3=18\n",
      "6*4=24\n",
      "6*5=30\n",
      "6*6=36\n",
      "6*7=42\n",
      "6*8=48\n",
      "6*9=54\n",
      "6*10=60\n"
     ]
    }
   ],
   "source": [
    "#task-8\n",
    "num=int(input(\"enter a number for table\"))\n",
    "for i in range(1,11):\n",
    "    print(f\"{num}*{i}={num*i}\")"
   ]
  },
  {
   "cell_type": "code",
   "execution_count": null,
   "id": "48c2c6fe-31e5-4fd4-b8a4-c8cef83c5252",
   "metadata": {},
   "outputs": [],
   "source": []
  }
 ],
 "metadata": {
  "kernelspec": {
   "display_name": "Python 3 (ipykernel)",
   "language": "python",
   "name": "python3"
  },
  "language_info": {
   "codemirror_mode": {
    "name": "ipython",
    "version": 3
   },
   "file_extension": ".py",
   "mimetype": "text/x-python",
   "name": "python",
   "nbconvert_exporter": "python",
   "pygments_lexer": "ipython3",
   "version": "3.12.4"
  }
 },
 "nbformat": 4,
 "nbformat_minor": 5
}
