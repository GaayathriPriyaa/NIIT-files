{
 "cells": [
  {
   "cell_type": "code",
   "execution_count": 6,
   "id": "89279927-3100-4f76-b987-42a83f802cc0",
   "metadata": {},
   "outputs": [],
   "source": [
    "# Task 1\n",
    "class Product:\n",
    "    def __init__(self, product_id, name, price, quantity):\n",
    "        self.product_id = product_id\n",
    "        self.name = name\n",
    "        self.price = price\n",
    "        self.quantity = quantity\n",
    "    @staticmethod\n",
    "    def add_product(product_id, name, price, quantity):\n",
    "        if not isinstance(product_id, int) or product_id <= 0:\n",
    "            raise ValueError(\"Product ID must be a positive integer.\")\n",
    "        if not isinstance(name, str) or not name:\n",
    "            raise ValueError(\"Product name must be a non-empty string.\")\n",
    "        if not isinstance(price, (int, float)) or price <= 0:\n",
    "            raise ValueError(\"Price must be a positive number.\")\n",
    "        if not isinstance(quantity, int) or quantity < 0:\n",
    "            raise ValueError(\"Quantity must be a non-negative integer.\")\n",
    "        return Product(product_id, name, price, quantity)\n",
    "        \n",
    "    def display_product(self):\n",
    "        print(f\"Product ID: {self.product_id}\")\n",
    "        print(f\"Name: {self.name}\")\n",
    "        print(f\"Price: ${self.price:.2f}\")\n",
    "        print(f\"Quantity: {self.quantity}\")\n",
    "    def format_product(self):\n",
    "        return f\"ID: {self.product_id}, Name: {self.name}, Price: ${self.price:.2f}, Quantity: {self.quantity}\"\n"
   ]
  },
  {
   "cell_type": "code",
   "execution_count": 8,
   "id": "65f914ce-c9d9-4785-aa49-e9a9b48b023c",
   "metadata": {},
   "outputs": [
    {
     "name": "stdout",
     "output_type": "stream",
     "text": [
      "Product ID: 101\n",
      "Name: Laptop\n",
      "Price: $999.99\n",
      "Quantity: 10\n",
      "ID: 101, Name: Laptop, Price: $999.99, Quantity: 10\n"
     ]
    }
   ],
   "source": [
    "try:\n",
    "    new_product = Product.add_product(101, \"Laptop\", 999.99, 10)\n",
    "    new_product.display_product()\n",
    "    print(new_product.format_product())\n",
    "except ValueError as e:\n",
    "    print(e)"
   ]
  },
  {
   "cell_type": "code",
   "execution_count": 20,
   "id": "e5731c91-0fd4-4af4-832d-6af0735749a8",
   "metadata": {},
   "outputs": [],
   "source": [
    "# Task 2\n",
    "class Product:\n",
    "    def __init__(self, product_id, name, price, quantity):\n",
    "        self.product_id = product_id\n",
    "        self.name = name\n",
    "        self.price = price\n",
    "        self.quantity = quantity\n",
    "    @staticmethod\n",
    "    def add_product(product_id, name, price, quantity):\n",
    "        if not isinstance(product_id, int) or product_id <= 0:\n",
    "            raise ValueError(\"Product ID must be a positive integer.\")\n",
    "        if not isinstance(name, str) or not name:\n",
    "            raise ValueError(\"Product name must be a non-empty string.\")\n",
    "        if not isinstance(price, (int, float)) or price <= 0:\n",
    "            raise ValueError(\"Price must be a positive number.\")\n",
    "        if not isinstance(quantity, int) or quantity < 0:\n",
    "            raise ValueError(\"Quantity must be a non-negative integer.\") \n",
    "        return Product(product_id, name, price, quantity)      \n",
    "    def format_product(self):\n",
    "        total_price = self.price * self.quantity\n",
    "        return f\"ID: {self.product_id}, Name: {self.name}, Price: ${self.price:.2f}, Quantity: {self.quantity}, Total Price: ${total_price:.2f}\"\n"
   ]
  },
  {
   "cell_type": "code",
   "execution_count": 24,
   "id": "248b6473-41ce-40af-a605-de11d99d1bd3",
   "metadata": {},
   "outputs": [
    {
     "name": "stdout",
     "output_type": "stream",
     "text": [
      "Product information successfully written to 'product_detail.txt'\n"
     ]
    }
   ],
   "source": [
    "\n",
    "try:\n",
    "    product1 = Product.add_product(1001, \"The Blue Umbrella\", 2.0, 12)\n",
    "    product2 = Product.add_product(1002, \"The Room on the Roof\", 3.0, 10)\n",
    "except ValueError as e:\n",
    "    print(f\"Error in product input: {e}\")\n",
    "\n",
    "try:\n",
    "    with open(\"product_detail.txt\", \"w\") as file:\n",
    "        file.write(\"Product Details:\\n\")\n",
    "        file.write(product1.format_product() + \"\\n\")\n",
    "        file.write(product2.format_product() + \"\\n\")\n",
    "    print(\"Product information successfully written to 'product_detail.txt'\")\n",
    "except IOError as e:\n",
    "    print(f\"Error writing to file: {e}\")"
   ]
  }
 ],
 "metadata": {
  "kernelspec": {
   "display_name": "Python 3 (ipykernel)",
   "language": "python",
   "name": "python3"
  },
  "language_info": {
   "codemirror_mode": {
    "name": "ipython",
    "version": 3
   },
   "file_extension": ".py",
   "mimetype": "text/x-python",
   "name": "python",
   "nbconvert_exporter": "python",
   "pygments_lexer": "ipython3",
   "version": "3.12.4"
  }
 },
 "nbformat": 4,
 "nbformat_minor": 5
}
