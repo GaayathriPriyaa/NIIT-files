{
 "cells": [
  {
   "cell_type": "code",
   "execution_count": 9,
   "id": "a96f2a89-b292-40c0-ac21-6ace4e4e5b73",
   "metadata": {},
   "outputs": [
    {
     "name": "stdin",
     "output_type": "stream",
     "text": [
      "enter a value 4\n"
     ]
    },
    {
     "name": "stdout",
     "output_type": "stream",
     "text": [
      "factorial of a number is: 24\n"
     ]
    }
   ],
   "source": [
    "#TASK1\n",
    "num=int(input('enter a value'))\n",
    "i=1\n",
    "while num>0:\n",
    "    i=i*num  \n",
    "    num-=1   \n",
    "print(\"factorial of a number is:\",i)"
   ]
  },
  {
   "cell_type": "code",
   "execution_count": 19,
   "id": "3ba8abfe-4b35-4134-a39a-a1ddf52bc901",
   "metadata": {},
   "outputs": [
    {
     "name": "stdout",
     "output_type": "stream",
     "text": [
      "50 is not prime\n",
      "51 is not prime\n"
     ]
    }
   ],
   "source": [
    "#TASK2\n",
    "num=50\n",
    "i=2\n",
    "while i*i<=num:\n",
    "    if num%i==0:\n",
    "        print(f\"{num} is not prime\")\n",
    "        break\n",
    "    i+=1\n",
    "else:\n",
    "    if num>1:\n",
    "        print(f\"{num} is prime\")\n",
    "    else:\n",
    "        print(f\"{num} is not prime\")\n",
    "num=51\n",
    "i=2\n",
    "while i*i<=num:\n",
    "    if num%i==0:\n",
    "        print(f\"{num} is not prime\")\n",
    "        break\n",
    "    i+=1\n",
    "else:\n",
    "    if num>1:\n",
    "        print(f\"{num} is prime\")\n",
    "    else:\n",
    "        print(f\"{num} is not prime\")\n",
    "\n"
   ]
  },
  {
   "cell_type": "code",
   "execution_count": 1,
   "id": "750b6b16-4b6a-459c-be1d-bb9c0827e4c1",
   "metadata": {},
   "outputs": [
    {
     "name": "stdin",
     "output_type": "stream",
     "text": [
      "Enter the number 96301\n"
     ]
    },
    {
     "name": "stdout",
     "output_type": "stream",
     "text": [
      "The added values are: 19\n"
     ]
    }
   ],
   "source": [
    "#TASK3\n",
    "num=int(input(\"Enter the number\"))\n",
    "sum=0\n",
    "while num>0:\n",
    "    sum+=num%10\n",
    "    num//=10\n",
    "print(\"The added values are:\", sum)"
   ]
  },
  {
   "cell_type": "code",
   "execution_count": 5,
   "id": "88b3170f-86c7-4709-b2f0-761e1b017212",
   "metadata": {},
   "outputs": [
    {
     "name": "stdout",
     "output_type": "stream",
     "text": [
      "0\n",
      "1\n",
      "1\n",
      "2\n",
      "3\n",
      "5\n",
      "8\n"
     ]
    }
   ],
   "source": [
    "#TASK4\n",
    "n1=0 \n",
    "n2=1\n",
    "count=0\n",
    "while count<7:\n",
    "    print(n1)\n",
    "    nth=n1+n2\n",
    "    n1=n2\n",
    "    n2=nth\n",
    "    count+=1"
   ]
  },
  {
   "cell_type": "code",
   "execution_count": 13,
   "id": "01a4659f-7b6a-4e64-a962-80a6fc14ebb0",
   "metadata": {},
   "outputs": [
    {
     "name": "stdout",
     "output_type": "stream",
     "text": [
      "(1, 2, 3, 4, 5, 6)\n",
      "2364433113888\n",
      "2364434076480\n"
     ]
    }
   ],
   "source": [
    "#TASK5\n",
    "t1=(1,2,3)\n",
    "t2=(4,5,6)\n",
    "t1=t1+t2\n",
    "print(t1)\n",
    "print(id(t1))\n",
    "print(id(t2))"
   ]
  },
  {
   "cell_type": "code",
   "execution_count": 17,
   "id": "45845d3c-30fc-4ba8-9490-6ac17692e5b8",
   "metadata": {},
   "outputs": [
    {
     "name": "stdout",
     "output_type": "stream",
     "text": [
      "{70, 10, 20, 30, 33, 40, 50, 55, 60}\n"
     ]
    }
   ],
   "source": [
    "#TASK6\n",
    "m={10,20,30,40,50}\n",
    "n=[33,40,55,60,70]\n",
    "for i in n:\n",
    "    m.add(i)\n",
    "print(m)    \n",
    "    \n",
    "    "
   ]
  },
  {
   "cell_type": "code",
   "execution_count": 21,
   "id": "8c1a4db3-e682-4452-a9e6-d8b6f14226b3",
   "metadata": {},
   "outputs": [
    {
     "name": "stdout",
     "output_type": "stream",
     "text": [
      "data 2\n",
      "Sql 4\n"
     ]
    }
   ],
   "source": [
    "#TASK7\n",
    "Data_Set={'Python':1,'Data':2,'Excel':3,'SQL':4}\n",
    "data_set = {'python': 1, 'data': 2, 'Excel': 3, 'Sql': 4}\n",
    "keys = list(data_set.keys())\n",
    "new_values={}  \n",
    "i=0\n",
    "while i<len(keys):\n",
    "    key=keys[i]\n",
    "    value = data_set[key]  \n",
    "    if value%2==0:\n",
    "        new_values[key]=value  \n",
    "    i+=1\n",
    "for key, value in new_values.items():\n",
    "    print(key, value)\n"
   ]
  },
  {
   "cell_type": "code",
   "execution_count": 23,
   "id": "68336765-e871-43df-bdea-ad67bffa676e",
   "metadata": {},
   "outputs": [
    {
     "name": "stdout",
     "output_type": "stream",
     "text": [
      "{1: 1, 2: 4, 3: 9, 4: 16, 5: 25, 6: 36, 7: 49, 8: 64, 9: 81, 10: 100, 11: 121, 12: 144, 13: 169, 14: 196, 15: 225, 100: 10000}\n"
     ]
    }
   ],
   "source": [
    "#TASK8\n",
    "set1={}\n",
    "for i in range(1,16):\n",
    "    set1[i]=i**2\n",
    "set1.update({100:10000})\n",
    "print(set1)"
   ]
  },
  {
   "cell_type": "code",
   "execution_count": null,
   "id": "bccab663-9901-4d9b-b2f6-3c458de15bba",
   "metadata": {},
   "outputs": [],
   "source": []
  }
 ],
 "metadata": {
  "kernelspec": {
   "display_name": "Python 3 (ipykernel)",
   "language": "python",
   "name": "python3"
  },
  "language_info": {
   "codemirror_mode": {
    "name": "ipython",
    "version": 3
   },
   "file_extension": ".py",
   "mimetype": "text/x-python",
   "name": "python",
   "nbconvert_exporter": "python",
   "pygments_lexer": "ipython3",
   "version": "3.12.4"
  }
 },
 "nbformat": 4,
 "nbformat_minor": 5
}
