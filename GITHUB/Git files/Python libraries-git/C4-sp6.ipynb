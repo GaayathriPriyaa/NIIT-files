{
 "cells": [
  {
   "cell_type": "code",
   "execution_count": 31,
   "id": "3fc5706e-c776-4f42-93e2-3c5a26ef640f",
   "metadata": {},
   "outputs": [],
   "source": [
    "import matplotlib.pyplot as pt\n",
    "import pandas as pd\n",
    "import pymysql as p\n",
    "import warnings\n",
    "warnings.filterwarnings(\"ignore\")\n",
    "hr = p.connect(\n",
    "    host=\"localhost\",\n",
    "    user=\"root\",\n",
    "    password=\"shiva002\",\n",
    "    database=\"hr\"\n",
    ")\n",
    "sp6=hr.cursor()"
   ]
  },
  {
   "cell_type": "code",
   "execution_count": 2,
   "id": "30c137ab-5bdf-464e-a594-b6035b73cec9",
   "metadata": {},
   "outputs": [
    {
     "name": "stdout",
     "output_type": "stream",
     "text": [
      "('Belgium', 'Europe')\n",
      "('Switzerland', 'Europe')\n",
      "('Germany', 'Europe')\n",
      "('Denmark', 'Europe')\n",
      "('France', 'Europe')\n",
      "('Italy', 'Europe')\n",
      "('Netherlands', 'Europe')\n",
      "('United Kingdom', 'Europe')\n",
      "('Argentina', 'Americas')\n",
      "('Brazil', 'Americas')\n",
      "('Canada', 'Americas')\n",
      "('Mexico', 'Americas')\n",
      "('United States of America', 'Americas')\n",
      "('Australia', 'Asia')\n",
      "('China', 'Asia')\n",
      "('HongKong', 'Asia')\n",
      "('India', 'Asia')\n",
      "('Japan', 'Asia')\n",
      "('Singapore', 'Asia')\n",
      "('Egypt', 'Middle East and Africa')\n",
      "('Israel', 'Middle East and Africa')\n",
      "('Kuwait', 'Middle East and Africa')\n",
      "('Nigeria', 'Middle East and Africa')\n",
      "('Zambia', 'Middle East and Africa')\n",
      "('Zimbabwe', 'Middle East and Africa')\n"
     ]
    }
   ],
   "source": [
    "#task1  country name region associated with them\n",
    "sp6.execute(\"select c.country_name,region_name from countries as c inner join regions as r on c.region_id=r.region_id\")\n",
    "for i in sp6:\n",
    "    print(i)"
   ]
  },
  {
   "cell_type": "code",
   "execution_count": 28,
   "id": "9aa0b903-f98d-4b13-abf5-9f0f97b060f1",
   "metadata": {},
   "outputs": [
    {
     "data": {
      "text/plain": [
       "4"
      ]
     },
     "execution_count": 28,
     "metadata": {},
     "output_type": "execute_result"
    }
   ],
   "source": [
    "#task 3 city wise and country wise no of employees and save it in csv-file and use chart\n",
    "sp6.execute(\"\"\"select c.country_name,count(e.employee_id) as No_of_Emp from employees as e \n",
    "inner join departments as d on e.department_id=d.department_id\n",
    "inner join locations as l on d.location_id=l.location_id\n",
    "inner join countries as c on l.country_id=c.country_id\n",
    "group by c.country_name order by No_of_Emp\"\"\")"
   ]
  },
  {
   "cell_type": "code",
   "execution_count": 29,
   "id": "ad47177f-495a-4d4f-aaa1-452d597b56e9",
   "metadata": {},
   "outputs": [
    {
     "name": "stdout",
     "output_type": "stream",
     "text": [
      "('Germany', 1)\n",
      "('Canada', 2)\n",
      "('United Kingdom', 35)\n",
      "('United States of America', 68)\n"
     ]
    }
   ],
   "source": [
    "dat=sp6.fetchall()\n",
    "for i in dat:\n",
    "    print(i)"
   ]
  },
  {
   "cell_type": "code",
   "execution_count": 32,
   "id": "e0316a95-93a3-425e-9099-4726bd021893",
   "metadata": {},
   "outputs": [
    {
     "data": {
      "text/html": [
       "<div>\n",
       "<style scoped>\n",
       "    .dataframe tbody tr th:only-of-type {\n",
       "        vertical-align: middle;\n",
       "    }\n",
       "\n",
       "    .dataframe tbody tr th {\n",
       "        vertical-align: top;\n",
       "    }\n",
       "\n",
       "    .dataframe thead th {\n",
       "        text-align: right;\n",
       "    }\n",
       "</style>\n",
       "<table border=\"1\" class=\"dataframe\">\n",
       "  <thead>\n",
       "    <tr style=\"text-align: right;\">\n",
       "      <th></th>\n",
       "      <th>country_name</th>\n",
       "      <th>No_of_Emp</th>\n",
       "    </tr>\n",
       "  </thead>\n",
       "  <tbody>\n",
       "    <tr>\n",
       "      <th>0</th>\n",
       "      <td>Germany</td>\n",
       "      <td>1</td>\n",
       "    </tr>\n",
       "    <tr>\n",
       "      <th>1</th>\n",
       "      <td>Canada</td>\n",
       "      <td>2</td>\n",
       "    </tr>\n",
       "    <tr>\n",
       "      <th>2</th>\n",
       "      <td>United Kingdom</td>\n",
       "      <td>35</td>\n",
       "    </tr>\n",
       "    <tr>\n",
       "      <th>3</th>\n",
       "      <td>United States of America</td>\n",
       "      <td>68</td>\n",
       "    </tr>\n",
       "  </tbody>\n",
       "</table>\n",
       "</div>"
      ],
      "text/plain": [
       "               country_name  No_of_Emp\n",
       "0                   Germany          1\n",
       "1                    Canada          2\n",
       "2            United Kingdom         35\n",
       "3  United States of America         68"
      ]
     },
     "execution_count": 32,
     "metadata": {},
     "output_type": "execute_result"
    }
   ],
   "source": [
    "#saving to df from sql\n",
    "country=pd.read_sql_query(\"\"\"select c.country_name,count(e.employee_id) as No_of_Emp from employees as e \n",
    "inner join departments as d on e.department_id=d.department_id\n",
    "inner join locations as l on d.location_id=l.location_id\n",
    "inner join countries as c on l.country_id=c.country_id\n",
    "group by c.country_name order by No_of_Emp\"\"\",hr)\n",
    "country"
   ]
  },
  {
   "cell_type": "code",
   "execution_count": 35,
   "id": "b84e4bca-9f46-4b51-a999-7a969755f346",
   "metadata": {},
   "outputs": [
    {
     "data": {
      "text/html": [
       "<div>\n",
       "<style scoped>\n",
       "    .dataframe tbody tr th:only-of-type {\n",
       "        vertical-align: middle;\n",
       "    }\n",
       "\n",
       "    .dataframe tbody tr th {\n",
       "        vertical-align: top;\n",
       "    }\n",
       "\n",
       "    .dataframe thead th {\n",
       "        text-align: right;\n",
       "    }\n",
       "</style>\n",
       "<table border=\"1\" class=\"dataframe\">\n",
       "  <thead>\n",
       "    <tr style=\"text-align: right;\">\n",
       "      <th></th>\n",
       "      <th>city</th>\n",
       "      <th>No_of_Emp</th>\n",
       "    </tr>\n",
       "  </thead>\n",
       "  <tbody>\n",
       "    <tr>\n",
       "      <th>0</th>\n",
       "      <td>London</td>\n",
       "      <td>1</td>\n",
       "    </tr>\n",
       "    <tr>\n",
       "      <th>1</th>\n",
       "      <td>Munich</td>\n",
       "      <td>1</td>\n",
       "    </tr>\n",
       "    <tr>\n",
       "      <th>2</th>\n",
       "      <td>Toronto</td>\n",
       "      <td>2</td>\n",
       "    </tr>\n",
       "    <tr>\n",
       "      <th>3</th>\n",
       "      <td>Southlake</td>\n",
       "      <td>5</td>\n",
       "    </tr>\n",
       "    <tr>\n",
       "      <th>4</th>\n",
       "      <td>Seattle</td>\n",
       "      <td>18</td>\n",
       "    </tr>\n",
       "    <tr>\n",
       "      <th>5</th>\n",
       "      <td>Oxford</td>\n",
       "      <td>34</td>\n",
       "    </tr>\n",
       "    <tr>\n",
       "      <th>6</th>\n",
       "      <td>South San Francisco</td>\n",
       "      <td>45</td>\n",
       "    </tr>\n",
       "  </tbody>\n",
       "</table>\n",
       "</div>"
      ],
      "text/plain": [
       "                  city  No_of_Emp\n",
       "0               London          1\n",
       "1               Munich          1\n",
       "2              Toronto          2\n",
       "3            Southlake          5\n",
       "4              Seattle         18\n",
       "5               Oxford         34\n",
       "6  South San Francisco         45"
      ]
     },
     "execution_count": 35,
     "metadata": {},
     "output_type": "execute_result"
    }
   ],
   "source": [
    "#saving to df from sql\n",
    "city=pd.read_sql_query(\"\"\"select l.city,count(e.employee_id) as No_of_Emp from employees as e\n",
    "inner join departments as d on e.department_id=d.department_id\n",
    "inner join locations as l on d.location_id=l.location_id\n",
    "group by l.city order by No_of_Emp \"\"\",hr)\n",
    "city"
   ]
  },
  {
   "cell_type": "code",
   "execution_count": 38,
   "id": "25c24f30-5a55-4ad2-82c2-971723c3f454",
   "metadata": {},
   "outputs": [],
   "source": [
    "#saving to csv of country wise count of emp \n",
    "country.to_csv(\"country.csv\",index=False)"
   ]
  },
  {
   "cell_type": "code",
   "execution_count": 37,
   "id": "3a6dc0cc-333f-4caa-a0e5-4f47d9ca9afc",
   "metadata": {},
   "outputs": [],
   "source": [
    "#saving to csv of city wise\n",
    "city.to_csv(\"city.csv\",index=False)"
   ]
  },
  {
   "cell_type": "code",
   "execution_count": 39,
   "id": "f0e0d2b8-1275-4f7d-8e11-a40bf59c85bf",
   "metadata": {},
   "outputs": [
    {
     "data": {
      "image/png": "[encoded data removed]",
      "text/plain": [
       "<Figure size 640x480 with 1 Axes>"
      ]
     },
     "metadata": {},
     "output_type": "display_data"
    }
   ],
   "source": [
    "#graph using matplotlib\n",
    "pt.barh(country['country_name'],country['No_of_Emp'])\n",
    "pt.title(\"Country wise No_of_Employees\")\n",
    "pt.xlabel(\"Employee Count\")\n",
    "pt.ylabel(\"Country\")\n",
    "pt.show()"
   ]
  },
  {
   "cell_type": "code",
   "execution_count": 40,
   "id": "ceda93c2-c48f-4dfa-a888-d3a2a78e4761",
   "metadata": {},
   "outputs": [
    {
     "data": {
      "image/png": "[encoded data removed]",
      "text/plain": [
       "<Figure size 640x480 with 1 Axes>"
      ]
     },
     "metadata": {},
     "output_type": "display_data"
    }
   ],
   "source": [
    "#grapg using matplotlib\n",
    "pt.barh(city['city'],city['No_of_Emp'])\n",
    "pt.title(\"City wise No_of_Employees\")\n",
    "pt.xlabel(\"Employee Count\")\n",
    "pt.ylabel(\"City\")\n",
    "pt.show()"
   ]
  },
  {
   "cell_type": "code",
   "execution_count": null,
   "id": "ed957d5a-ceb2-4b4d-b956-9e9d011fbfbd",
   "metadata": {},
   "outputs": [],
   "source": []
  }
 ],
 "metadata": {
  "kernelspec": {
   "display_name": "Python 3 (ipykernel)",
   "language": "python",
   "name": "python3"
  },
  "language_info": {
   "codemirror_mode": {
    "name": "ipython",
    "version": 3
   },
   "file_extension": ".py",
   "mimetype": "text/x-python",
   "name": "python",
   "nbconvert_exporter": "python",
   "pygments_lexer": "ipython3",
   "version": "3.11.7"
  }
 },
 "nbformat": 4,
 "nbformat_minor": 5
}
