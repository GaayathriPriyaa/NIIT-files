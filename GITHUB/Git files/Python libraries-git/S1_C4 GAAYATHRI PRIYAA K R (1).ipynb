{
 "cells": [
  {
   "cell_type": "code",
   "execution_count": 1,
   "id": "a9477385-d17d-4c97-99ac-390a924f898d",
   "metadata": {},
   "outputs": [],
   "source": [
    "import numpy as np"
   ]
  },
  {
   "cell_type": "code",
   "execution_count": 3,
   "id": "4b2ab7b1-35e5-4717-9ff6-d04756afe7d4",
   "metadata": {},
   "outputs": [],
   "source": [
    "#1D array\n",
    "#TASK1\n",
    "HR_id = np.arange(1,4)\n",
    "IT_id = np.arange(4,19)\n",
    "Finance_id = np.arange(19,24)\n",
    "Sales_id = np.arange(24,31)"
   ]
  },
  {
   "cell_type": "code",
   "execution_count": 7,
   "id": "82380925-8934-4fa4-919a-a04d4654890e",
   "metadata": {},
   "outputs": [
    {
     "name": "stdout",
     "output_type": "stream",
     "text": [
      "HR_id: [1 2 3]\n",
      "IT_id: [ 4  5  6  7  8  9 10 11 12 13 14 15 16 17 18]\n",
      "Finance_id: [19 20 21 22 23]\n",
      "Sales_id: [24 25 26 27 28 29 30]\n"
     ]
    }
   ],
   "source": [
    "print('HR_id:',HR_id)\n",
    "print('IT_id:',IT_id)\n",
    "print('Finance_id:',Finance_id)\n",
    "print('Sales_id:',Sales_id)"
   ]
  },
  {
   "cell_type": "code",
   "execution_count": 105,
   "id": "ef72532d-4d40-47ce-8f2c-e94c4512a6e2",
   "metadata": {},
   "outputs": [],
   "source": [
    "#TASK2\n",
    "HR_sal = np.array([50,60,57])\n",
    "IT_sal = np.array([67]*15)\n",
    "Finance_sal = np.array([60,65,50,70,87])\n",
    "Sales_sal = np.array([50,60,65,90,56,65,71])"
   ]
  },
  {
   "cell_type": "code",
   "execution_count": 39,
   "id": "6e42d7d1-dcc7-4c93-915f-5f2e0a6c37a0",
   "metadata": {},
   "outputs": [
    {
     "name": "stdout",
     "output_type": "stream",
     "text": [
      "HR Salaries: [50 60 57]\n",
      "IT Salaries: [67 67 67 67 67 67 67 67 67 67 67 67 67 67 67]\n",
      "Finance Salaries: [60 65 50 70 87]\n",
      "Sales Salaries: [50 60 65 90 56 65 71]\n"
     ]
    }
   ],
   "source": [
    "print(\"HR Salaries:\", HR_sal)\n",
    "print(\"IT Salaries:\", IT_sal)\n",
    "print(\"Finance Salaries:\", Finance_sal)\n",
    "print(\"Sales Salaries:\", Sales_sal)"
   ]
  },
  {
   "cell_type": "code",
   "execution_count": 75,
   "id": "c20caed5-ed34-418f-8da6-ce9e0feae0d1",
   "metadata": {},
   "outputs": [
    {
     "name": "stdout",
     "output_type": "stream",
     "text": [
      "The highest average salary is: 67.0\n"
     ]
    }
   ],
   "source": [
    "#TASK3\n",
    "HR_salary = np.mean(HR_sal)\n",
    "IT_salary = np.mean(IT_sal)\n",
    "Finance_salary = np.mean(Finance_sal)\n",
    "Sales_salary = np.mean(Sales_sal)\n",
    "highest_sal = np.max([HR_salary,IT_salary,Finance_salary,Sales_salary])"
   ]
  },
  {
   "cell_type": "code",
   "execution_count": 77,
   "id": "a37f4a12-8244-450c-8535-772e0df54b44",
   "metadata": {},
   "outputs": [
    {
     "name": "stdout",
     "output_type": "stream",
     "text": [
      "The average salary for HR is: 55.666666666666664\n",
      "The average salary for IT is: 67.0\n",
      "The average salary for Finance is: 66.4\n",
      "The average salary for Sales is: 65.28571428571429\n",
      "The highest average salary is: 67.0\n"
     ]
    }
   ],
   "source": [
    "print('The average salary for HR is:',HR_salary)\n",
    "print('The average salary for IT is:',IT_salary)\n",
    "print('The average salary for Finance is:',Finance_salary)\n",
    "print('The average salary for Sales is:',Sales_salary)\n",
    "print('The highest average salary is:',highest_sal)\n",
    "# the department with the highest average salary is IT with the average of 67.0"
   ]
  },
  {
   "cell_type": "code",
   "execution_count": 41,
   "id": "38ce303a-a04d-4183-8ed5-c42285282178",
   "metadata": {},
   "outputs": [],
   "source": [
    "#TASK4\n",
    "hgt_hr_sal = np.max(HR_sal)\n",
    "hgt_finance_sal = np.max(Finance_sal)"
   ]
  },
  {
   "cell_type": "code",
   "execution_count": 43,
   "id": "e0bab771-0cbb-48d3-9fcf-f7a12e2e917b",
   "metadata": {},
   "outputs": [
    {
     "name": "stdout",
     "output_type": "stream",
     "text": [
      "the highest salary in HR is: 60\n",
      "the highest salary in Finance is: 87\n"
     ]
    }
   ],
   "source": [
    "print('the highest salary in HR is:',hgt_hr_sal)\n",
    "print('the highest salary in Finance is:',hgt_finance_sal)"
   ]
  },
  {
   "cell_type": "code",
   "execution_count": 107,
   "id": "dd4ce9ec-4a05-4721-b30b-d67c6dee650d",
   "metadata": {},
   "outputs": [
    {
     "name": "stdout",
     "output_type": "stream",
     "text": [
      "The updated salary for IT is:\n",
      " [70.35 70.35 70.35 70.35 70.35 70.35 70.35 70.35 70.35 70.35 70.35 70.35\n",
      " 70.35 70.35 70.35]\n"
     ]
    }
   ],
   "source": [
    "#TASK5\n",
    "IT_sal= IT_sal*1.05\n",
    "print('The updated salary for IT is:\\n',IT_sal)"
   ]
  },
  {
   "cell_type": "code",
   "execution_count": 53,
   "id": "83bc55c3-3b32-46d7-be9b-b02d361a8ce0",
   "metadata": {},
   "outputs": [],
   "source": [
    "#2D array\n",
    "#TASK1\n",
    "import numpy as np\n",
    "from numpy import genfromtxt"
   ]
  },
  {
   "cell_type": "code",
   "execution_count": 57,
   "id": "22f578d0-6609-42fe-835d-058cabbf263d",
   "metadata": {},
   "outputs": [
    {
     "name": "stdout",
     "output_type": "stream",
     "text": [
      "[[  1.   337.   118.   ...   9.65   1.     0.92]\n",
      " [  2.   324.   107.   ...   8.87   1.     0.76]\n",
      " [  3.   316.   104.   ...   8.     1.     0.72]\n",
      " ...\n",
      " [398.   330.   116.   ...   9.45   1.     0.91]\n",
      " [399.   312.   103.   ...   8.78   0.     0.67]\n",
      " [400.   333.   117.   ...   9.66   1.     0.95]]\n",
      "3600\n"
     ]
    }
   ],
   "source": [
    "adm_data = genfromtxt('DS1_C4_S1_AdmissionPredict_Data_Practice__1_.csv',\n",
    "delimiter=',',skip_header=1)\n",
    "print(adm_data)\n",
    "print(np.size(adm_data[0:,0:]))"
   ]
  },
  {
   "cell_type": "code",
   "execution_count": 61,
   "id": "3fed810d-9681-4d01-a458-027bfeda6281",
   "metadata": {},
   "outputs": [
    {
     "name": "stdout",
     "output_type": "stream",
     "text": [
      "(400, 9)\n"
     ]
    }
   ],
   "source": [
    "num_rows,num_col = adm_data.shape\n",
    "print(adm_data.shape)"
   ]
  },
  {
   "cell_type": "code",
   "execution_count": 63,
   "id": "fc56e4af-c1c1-4159-90c9-d923ef36d961",
   "metadata": {},
   "outputs": [
    {
     "name": "stdout",
     "output_type": "stream",
     "text": [
      "The GRE score of all student is\n",
      " [337. 324. 316. 322. 314. 330. 321. 308. 302. 323. 325. 327. 328. 307.\n",
      " 311. 314. 317. 319. 318. 303. 312. 325. 328. 334. 336. 340. 322. 298.\n",
      " 295. 310. 300. 327. 338. 340. 331. 320. 299. 300. 304. 307. 308. 316.\n",
      " 313. 332. 326. 322. 329. 339. 321. 327. 313. 312. 334. 324. 322. 320.\n",
      " 316. 298. 300. 311. 309. 307. 304. 315. 325. 325. 327. 316. 318. 328.\n",
      " 332. 336. 321. 314. 314. 329. 327. 301. 296. 294. 312. 340. 320. 322.\n",
      " 340. 319. 315. 317. 314. 316. 318. 299. 298. 301. 303. 304. 306. 331.\n",
      " 332. 323. 322. 312. 314. 317. 326. 316. 329. 338. 331. 304. 305. 321.\n",
      " 301. 320. 311. 310. 299. 290. 296. 327. 335. 334. 310. 308. 301. 300.\n",
      " 323. 319. 326. 333. 339. 303. 309. 323. 333. 314. 312. 316. 326. 318.\n",
      " 329. 332. 331. 340. 325. 320. 315. 326. 339. 311. 334. 332. 321. 324.\n",
      " 326. 312. 315. 309. 306. 297. 315. 298. 318. 317. 329. 322. 302. 313.\n",
      " 293. 311. 312. 334. 322. 323. 321. 320. 329. 319. 309. 307. 300. 305.\n",
      " 299. 314. 316. 327. 317. 335. 331. 324. 324. 323. 322. 336. 316. 307.\n",
      " 306. 310. 311. 313. 317. 315. 340. 334. 298. 295. 315. 310. 305. 301.\n",
      " 325. 328. 338. 333. 331. 330. 322. 321. 324. 312. 313. 316. 324. 308.\n",
      " 305. 296. 306. 312. 318. 324. 313. 319. 312. 304. 330. 326. 325. 329.\n",
      " 310. 299. 296. 317. 324. 325. 314. 328. 316. 311. 324. 321. 320. 316.\n",
      " 318. 335. 321. 307. 309. 324. 326. 331. 327. 312. 308. 324. 325. 313.\n",
      " 312. 314. 327. 308. 306. 299. 294. 312. 315. 322. 329. 320. 308. 304.\n",
      " 311. 317. 312. 321. 340. 331. 336. 324. 314. 313. 307. 300. 302. 312.\n",
      " 316. 317. 310. 320. 330. 305. 309. 319. 322. 323. 313. 321. 323. 325.\n",
      " 312. 308. 320. 328. 311. 301. 305. 308. 298. 300. 324. 327. 317. 323.\n",
      " 314. 305. 315. 326. 299. 295. 324. 297. 327. 311. 308. 319. 312. 325.\n",
      " 319. 332. 323. 324. 312. 326. 308. 305. 295. 316. 304. 299. 302. 313.\n",
      " 318. 325. 303. 300. 297. 317. 327. 301. 314. 321. 322. 334. 338. 306.\n",
      " 313. 330. 320. 311. 298. 301. 310. 324. 336. 321. 315. 304. 297. 290.\n",
      " 303. 311. 322. 319. 324. 300. 340. 335. 302. 307. 296. 320. 314. 318.\n",
      " 326. 317. 329. 324. 325. 330. 312. 333.]\n"
     ]
    }
   ],
   "source": [
    "#TASK2\n",
    "print(\"The GRE score of all student is\\n\",adm_data[0:,1])"
   ]
  },
  {
   "cell_type": "code",
   "execution_count": 65,
   "id": "5920bcb8-e104-4c3e-898f-315f9e971706",
   "metadata": {},
   "outputs": [
    {
     "name": "stdout",
     "output_type": "stream",
     "text": [
      "The total students who's GRE score greater than 320 are  163\n"
     ]
    }
   ],
   "source": [
    "#TASK3\n",
    "Total_students=np.where(adm_data[0:,1]>320)\n",
    "SIZE=np.size(Total_students)\n",
    "print(\"The total students who's GRE score greater than 320 are \",SIZE)"
   ]
  },
  {
   "cell_type": "code",
   "execution_count": 67,
   "id": "8962529b-d829-4223-b7bf-641eb29a0c8f",
   "metadata": {},
   "outputs": [
    {
     "name": "stdout",
     "output_type": "stream",
     "text": [
      "[[11800. 11500. 11100. 11200. 11400. 11600. 11900. 11900. 12000. 11800.\n",
      "  11400. 11200. 11700. 11300. 11400. 11900. 11100. 11600. 11200. 11100.\n",
      "  11200. 11400. 11500. 11800. 11200. 11100. 11400. 11200. 12000. 11500.\n",
      "  11500. 12000. 11900. 11300. 11200. 11100. 11700. 11600. 11700. 11900.\n",
      "  11300. 11200. 11200. 11800. 11400. 11200. 11300. 11600. 11800. 11500.\n",
      "  12000. 11200. 11300. 11400. 11600. 11400. 11600. 11200. 11100. 11700.\n",
      "  11300. 11100. 11100. 11900. 11300. 11800. 11500. 11200. 11100. 11400.\n",
      "  11800. 12000. 12000. 12000. 11900. 11700. 11600. 11200. 11300. 11200.\n",
      "  11100. 11300. 11100. 11200. 11400. 11500. 11400. 11100. 11500. 11400.\n",
      "  11900. 11100. 11300. 11300. 11100. 11200. 11600. 11800. 11400. 12000.\n",
      "  11400. 11200. 11200. 11100. 11300. 11600. 11200. 11300. 11100. 11800.\n",
      "  11600. 11500. 11400. 11900. 11300. 11700. 11200. 11100. 11600. 11700.]]\n"
     ]
    }
   ],
   "source": [
    "#TASK4\n",
    "Toefl_score=np.where(adm_data[0:,2]>110)\n",
    "# print(Toefl_score)\n",
    "TOEFL=adm_data[Toefl_score,2]*100\n",
    "print(TOEFL)"
   ]
  },
  {
   "cell_type": "code",
   "execution_count": 73,
   "id": "caf82788-5d0a-41a6-8345-578ff2da0bb9",
   "metadata": {},
   "outputs": [
    {
     "name": "stdout",
     "output_type": "stream",
     "text": [
      "(array([  0,  22,  23,  24,  25,  32,  43,  47,  52,  70,  81,  97,  98,\n",
      "       107, 108, 120, 121, 129, 138, 141, 143, 148, 151, 171, 176, 187,\n",
      "       193, 202, 203, 212, 213, 214, 215, 259, 285, 286, 297, 325, 337,\n",
      "       361, 372, 385, 397, 399], dtype=int64),)\n",
      "[[  1.  23.  24.  25.  26.  33.  44.  48.  53.  71.  82.  98.  99. 108.\n",
      "  109. 121. 122. 130. 139. 142. 144. 149. 152. 172. 177. 188. 194. 203.\n",
      "  204. 213. 214. 215. 216. 260. 286. 287. 298. 326. 338. 362. 373. 386.\n",
      "  398. 400.]]\n",
      "The total number of students eligible for scholarship are: 44\n"
     ]
    }
   ],
   "source": [
    "#TASK5\n",
    "students_eligible=np.where(adm_data[0:,1]>315) and np.where(adm_data[0:,2]>115)\n",
    "print(students_eligible)\n",
    "serial_number=adm_data[students_eligible,0]\n",
    "print(serial_number)\n",
    "print(\"The total number of students eligible for scholarship are:\",np.size(serial_number))"
   ]
  },
  {
   "cell_type": "code",
   "execution_count": null,
   "id": "4a688531-af98-4894-bc08-9b7b09cde12e",
   "metadata": {},
   "outputs": [],
   "source": []
  }
 ],
 "metadata": {
  "kernelspec": {
   "display_name": "Python 3 (ipykernel)",
   "language": "python",
   "name": "python3"
  },
  "language_info": {
   "codemirror_mode": {
    "name": "ipython",
    "version": 3
   },
   "file_extension": ".py",
   "mimetype": "text/x-python",
   "name": "python",
   "nbconvert_exporter": "python",
   "pygments_lexer": "ipython3",
   "version": "3.12.4"
  }
 },
 "nbformat": 4,
 "nbformat_minor": 5
}
