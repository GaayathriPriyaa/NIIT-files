{
 "cells": [
  {
   "cell_type": "code",
   "execution_count": 1,
   "id": "bdf77060-1713-4860-a3cb-10cb4ecb96cc",
   "metadata": {},
   "outputs": [],
   "source": [
    "import pandas as pd\n",
    "import statistics as st"
   ]
  },
  {
   "cell_type": "code",
   "execution_count": 2,
   "id": "196c56be-3fd9-46dd-b0c3-50812c234d8d",
   "metadata": {},
   "outputs": [
    {
     "data": {
      "text/html": [
       "<div>\n",
       "<style scoped>\n",
       "    .dataframe tbody tr th:only-of-type {\n",
       "        vertical-align: middle;\n",
       "    }\n",
       "\n",
       "    .dataframe tbody tr th {\n",
       "        vertical-align: top;\n",
       "    }\n",
       "\n",
       "    .dataframe thead th {\n",
       "        text-align: right;\n",
       "    }\n",
       "</style>\n",
       "<table border=\"1\" class=\"dataframe\">\n",
       "  <thead>\n",
       "    <tr style=\"text-align: right;\">\n",
       "      <th></th>\n",
       "      <th>Statistics</th>\n",
       "      <th>Python</th>\n",
       "      <th>Tableau</th>\n",
       "    </tr>\n",
       "  </thead>\n",
       "  <tbody>\n",
       "    <tr>\n",
       "      <th>0</th>\n",
       "      <td>61</td>\n",
       "      <td>86</td>\n",
       "      <td>66</td>\n",
       "    </tr>\n",
       "    <tr>\n",
       "      <th>1</th>\n",
       "      <td>54</td>\n",
       "      <td>86</td>\n",
       "      <td>72</td>\n",
       "    </tr>\n",
       "    <tr>\n",
       "      <th>2</th>\n",
       "      <td>56</td>\n",
       "      <td>80</td>\n",
       "      <td>78</td>\n",
       "    </tr>\n",
       "    <tr>\n",
       "      <th>3</th>\n",
       "      <td>54</td>\n",
       "      <td>85</td>\n",
       "      <td>45</td>\n",
       "    </tr>\n",
       "    <tr>\n",
       "      <th>4</th>\n",
       "      <td>53</td>\n",
       "      <td>84</td>\n",
       "      <td>68</td>\n",
       "    </tr>\n",
       "    <tr>\n",
       "      <th>...</th>\n",
       "      <td>...</td>\n",
       "      <td>...</td>\n",
       "      <td>...</td>\n",
       "    </tr>\n",
       "    <tr>\n",
       "      <th>95</th>\n",
       "      <td>60</td>\n",
       "      <td>76</td>\n",
       "      <td>64</td>\n",
       "    </tr>\n",
       "    <tr>\n",
       "      <th>96</th>\n",
       "      <td>59</td>\n",
       "      <td>89</td>\n",
       "      <td>70</td>\n",
       "    </tr>\n",
       "    <tr>\n",
       "      <th>97</th>\n",
       "      <td>62</td>\n",
       "      <td>80</td>\n",
       "      <td>46</td>\n",
       "    </tr>\n",
       "    <tr>\n",
       "      <th>98</th>\n",
       "      <td>58</td>\n",
       "      <td>89</td>\n",
       "      <td>74</td>\n",
       "    </tr>\n",
       "    <tr>\n",
       "      <th>99</th>\n",
       "      <td>67</td>\n",
       "      <td>77</td>\n",
       "      <td>70</td>\n",
       "    </tr>\n",
       "  </tbody>\n",
       "</table>\n",
       "<p>100 rows × 3 columns</p>\n",
       "</div>"
      ],
      "text/plain": [
       "    Statistics  Python  Tableau\n",
       "0           61      86       66\n",
       "1           54      86       72\n",
       "2           56      80       78\n",
       "3           54      85       45\n",
       "4           53      84       68\n",
       "..         ...     ...      ...\n",
       "95          60      76       64\n",
       "96          59      89       70\n",
       "97          62      80       46\n",
       "98          58      89       74\n",
       "99          67      77       70\n",
       "\n",
       "[100 rows x 3 columns]"
      ]
     },
     "execution_count": 2,
     "metadata": {},
     "output_type": "execute_result"
    }
   ],
   "source": [
    "score_df = pd.read_csv('DS1_C4_S7_Students_Scores_Data_Practice.csv')\n",
    "score_df"
   ]
  },
  {
   "cell_type": "code",
   "execution_count": 3,
   "id": "9f1f4f62-2630-4e76-91cf-de8fa4f60f58",
   "metadata": {},
   "outputs": [
    {
     "data": {
      "text/html": [
       "<div>\n",
       "<style scoped>\n",
       "    .dataframe tbody tr th:only-of-type {\n",
       "        vertical-align: middle;\n",
       "    }\n",
       "\n",
       "    .dataframe tbody tr th {\n",
       "        vertical-align: top;\n",
       "    }\n",
       "\n",
       "    .dataframe thead th {\n",
       "        text-align: right;\n",
       "    }\n",
       "</style>\n",
       "<table border=\"1\" class=\"dataframe\">\n",
       "  <thead>\n",
       "    <tr style=\"text-align: right;\">\n",
       "      <th></th>\n",
       "      <th>Measures</th>\n",
       "      <th>Statistics</th>\n",
       "      <th>Python</th>\n",
       "      <th>Tableau</th>\n",
       "    </tr>\n",
       "  </thead>\n",
       "  <tbody>\n",
       "    <tr>\n",
       "      <th>0</th>\n",
       "      <td>Mean</td>\n",
       "      <td>60.89</td>\n",
       "      <td>81.84</td>\n",
       "      <td>68.02</td>\n",
       "    </tr>\n",
       "    <tr>\n",
       "      <th>1</th>\n",
       "      <td>Median</td>\n",
       "      <td>60.00</td>\n",
       "      <td>82.00</td>\n",
       "      <td>69.00</td>\n",
       "    </tr>\n",
       "    <tr>\n",
       "      <th>2</th>\n",
       "      <td>Mode</td>\n",
       "      <td>55.00</td>\n",
       "      <td>86.00</td>\n",
       "      <td>65.00</td>\n",
       "    </tr>\n",
       "  </tbody>\n",
       "</table>\n",
       "</div>"
      ],
      "text/plain": [
       "  Measures  Statistics  Python  Tableau\n",
       "0     Mean       60.89   81.84    68.02\n",
       "1   Median       60.00   82.00    69.00\n",
       "2     Mode       55.00   86.00    65.00"
      ]
     },
     "execution_count": 3,
     "metadata": {},
     "output_type": "execute_result"
    }
   ],
   "source": [
    "#TASK1\n",
    "Mean = []\n",
    "Median = []\n",
    "Mode = []\n",
    "\n",
    "for col in score_df:\n",
    "   Mean.append(score_df.loc[:,col].mean())\n",
    "   Median.append(score_df.loc[:,col].median())\n",
    "   Mode.append(st.mode(score_df[col]))\n",
    "\n",
    "row_head = ['Mean','Median','Mode']  \n",
    "col_names = ['Statistics','Python','Tableau']  \n",
    "\n",
    "d_data = pd.DataFrame([Mean,Median,Mode],columns= col_names)\n",
    "d_data.insert(0,'Measures',row_head,True)\n",
    "d_data"
   ]
  },
  {
   "cell_type": "code",
   "execution_count": 7,
   "id": "82896e7c-465d-4b7f-aee3-da718b96f633",
   "metadata": {},
   "outputs": [
    {
     "data": {
      "text/html": [
       "<div>\n",
       "<style scoped>\n",
       "    .dataframe tbody tr th:only-of-type {\n",
       "        vertical-align: middle;\n",
       "    }\n",
       "\n",
       "    .dataframe tbody tr th {\n",
       "        vertical-align: top;\n",
       "    }\n",
       "\n",
       "    .dataframe thead th {\n",
       "        text-align: right;\n",
       "    }\n",
       "</style>\n",
       "<table border=\"1\" class=\"dataframe\">\n",
       "  <thead>\n",
       "    <tr style=\"text-align: right;\">\n",
       "      <th></th>\n",
       "      <th>Measures</th>\n",
       "      <th>Statistics</th>\n",
       "      <th>Python</th>\n",
       "      <th>Tableau</th>\n",
       "    </tr>\n",
       "  </thead>\n",
       "  <tbody>\n",
       "    <tr>\n",
       "      <th>0</th>\n",
       "      <td>Mean</td>\n",
       "      <td>60.890000</td>\n",
       "      <td>81.840000</td>\n",
       "      <td>68.020000</td>\n",
       "    </tr>\n",
       "    <tr>\n",
       "      <th>1</th>\n",
       "      <td>Variance</td>\n",
       "      <td>7.236126</td>\n",
       "      <td>4.345484</td>\n",
       "      <td>7.320899</td>\n",
       "    </tr>\n",
       "    <tr>\n",
       "      <th>2</th>\n",
       "      <td>Coefficient_of_Variation</td>\n",
       "      <td>11.883931</td>\n",
       "      <td>5.309731</td>\n",
       "      <td>10.762862</td>\n",
       "    </tr>\n",
       "  </tbody>\n",
       "</table>\n",
       "</div>"
      ],
      "text/plain": [
       "                   Measures  Statistics     Python    Tableau\n",
       "0                      Mean   60.890000  81.840000  68.020000\n",
       "1                  Variance    7.236126   4.345484   7.320899\n",
       "2  Coefficient_of_Variation   11.883931   5.309731  10.762862"
      ]
     },
     "execution_count": 7,
     "metadata": {},
     "output_type": "execute_result"
    }
   ],
   "source": [
    "#TASK2\n",
    "Mean = []\n",
    "Variance = []\n",
    "SD = []\n",
    "CV= []\n",
    "\n",
    "for col in score_df:\n",
    "    col_mean = score_df.loc[:,col].mean()\n",
    "    Mean.append(col_mean)\n",
    "    col_sd = score_df.loc[:,col].std()\n",
    "    SD.append(col_sd)\n",
    "    col_v = score_df.loc[:,col].var()\n",
    "    Variance.append(col_sd)\n",
    "    CV.append(col_sd/col_mean*100)\n",
    "\n",
    "row_head = ['Mean','Variance','Coefficient_of_Variation']   \n",
    "col_names = ['Statistics','Python','Tableau']  \n",
    "\n",
    "data = pd.DataFrame([Mean,Variance,CV],columns= col_names)\n",
    "\n",
    "data.insert(0,'Measures',row_head,True)\n",
    "data"
   ]
  },
  {
   "cell_type": "code",
   "execution_count": 9,
   "id": "9a597efb-5749-4eae-a89f-bba415ba7637",
   "metadata": {},
   "outputs": [],
   "source": [
    "#TASK3\n",
    "import matplotlib.pyplot as plt"
   ]
  },
  {
   "cell_type": "code",
   "execution_count": 11,
   "id": "b7ab8897-4b9e-422a-ba0b-8c3aa4c5278a",
   "metadata": {},
   "outputs": [
    {
     "data": {
      "text/html": [
       "<div>\n",
       "<style scoped>\n",
       "    .dataframe tbody tr th:only-of-type {\n",
       "        vertical-align: middle;\n",
       "    }\n",
       "\n",
       "    .dataframe tbody tr th {\n",
       "        vertical-align: top;\n",
       "    }\n",
       "\n",
       "    .dataframe thead th {\n",
       "        text-align: right;\n",
       "    }\n",
       "</style>\n",
       "<table border=\"1\" class=\"dataframe\">\n",
       "  <thead>\n",
       "    <tr style=\"text-align: right;\">\n",
       "      <th></th>\n",
       "      <th>subject</th>\n",
       "      <th>Min</th>\n",
       "      <th>Max</th>\n",
       "      <th>Range</th>\n",
       "      <th>Q1</th>\n",
       "      <th>Q3</th>\n",
       "      <th>IQR</th>\n",
       "      <th>UpperFence</th>\n",
       "      <th>LowerFence</th>\n",
       "      <th>Outliers</th>\n",
       "    </tr>\n",
       "  </thead>\n",
       "  <tbody>\n",
       "    <tr>\n",
       "      <th>0</th>\n",
       "      <td>Statistics</td>\n",
       "      <td>50</td>\n",
       "      <td>74</td>\n",
       "      <td>24</td>\n",
       "      <td>54.0</td>\n",
       "      <td>67.00</td>\n",
       "      <td>13.00</td>\n",
       "      <td>86.500</td>\n",
       "      <td>34.500</td>\n",
       "      <td>[[], []]</td>\n",
       "    </tr>\n",
       "    <tr>\n",
       "      <th>1</th>\n",
       "      <td>Python</td>\n",
       "      <td>75</td>\n",
       "      <td>89</td>\n",
       "      <td>14</td>\n",
       "      <td>78.0</td>\n",
       "      <td>86.00</td>\n",
       "      <td>8.00</td>\n",
       "      <td>98.000</td>\n",
       "      <td>66.000</td>\n",
       "      <td>[[], []]</td>\n",
       "    </tr>\n",
       "    <tr>\n",
       "      <th>2</th>\n",
       "      <td>Tableau</td>\n",
       "      <td>45</td>\n",
       "      <td>79</td>\n",
       "      <td>34</td>\n",
       "      <td>64.0</td>\n",
       "      <td>73.25</td>\n",
       "      <td>9.25</td>\n",
       "      <td>87.125</td>\n",
       "      <td>50.125</td>\n",
       "      <td>[[45, 50, 50, 50, 46, 46], []]</td>\n",
       "    </tr>\n",
       "  </tbody>\n",
       "</table>\n",
       "</div>"
      ],
      "text/plain": [
       "      subject  Min  Max  Range    Q1     Q3    IQR  UpperFence  LowerFence  \\\n",
       "0  Statistics   50   74     24  54.0  67.00  13.00      86.500      34.500   \n",
       "1      Python   75   89     14  78.0  86.00   8.00      98.000      66.000   \n",
       "2     Tableau   45   79     34  64.0  73.25   9.25      87.125      50.125   \n",
       "\n",
       "                         Outliers  \n",
       "0                        [[], []]  \n",
       "1                        [[], []]  \n",
       "2  [[45, 50, 50, 50, 46, 46], []]  "
      ]
     },
     "execution_count": 11,
     "metadata": {},
     "output_type": "execute_result"
    }
   ],
   "source": [
    "for subject in score_df:\n",
    "    LO = []  \n",
    "    UO = []  \n",
    "    column_series = pd.Series(score_df[subject])  \n",
    "    Min = min(column_series)\n",
    "    Max = max(column_series)\n",
    "    Range = Max-Min \n",
    "    Q1 = column_series.quantile(0.25)\n",
    "    Q3 = column_series.quantile(0.75)\n",
    "    IQR = Q3-Q1\n",
    "    UF = Q3 + 1.5*IQR\n",
    "    LF = Q1 - 1.5*IQR\n",
    "\n",
    "    for z in score_df[subject]:\n",
    "        if z<LF:\n",
    "            LO.append(z)\n",
    "        if z>UF:\n",
    "            UO.append(z)\n",
    "    if(subject== 'Statistics'):\n",
    "        Statistics = ('Statistics' ,Min, Max, Range, Q1, Q3, IQR, UF, LF, [LO, UO])\n",
    "    elif(subject== 'Python'):\n",
    "        Python = ('Python' ,Min, Max, Range, Q1, Q3, IQR, UF, LF, [LO, UO])\n",
    "    else:\n",
    "        Tableau = ('Tableau',Min, Max, Range, Q1, Q3, IQR, UF, LF, [LO, UO])\n",
    "\n",
    "col_name = ['subject','Min', 'Max', 'Range', 'Q1', 'Q3', 'IQR', 'UpperFence', 'LowerFence', 'Outliers']\n",
    "\n",
    "dispersion_data = pd.DataFrame([Statistics,Python,Tableau],columns = col_name)\n",
    "dispersion_data"
   ]
  },
  {
   "cell_type": "code",
   "execution_count": 13,
   "id": "a66d480e-1a40-4739-892b-cfc12524dd8f",
   "metadata": {},
   "outputs": [],
   "source": [
    "#TASK4\n",
    "Statistics_data = score_df['Statistics'].tolist()\n",
    "Python_data = score_df['Python'].tolist()\n",
    "Tableau_data = score_df['Tableau'].tolist()"
   ]
  },
  {
   "cell_type": "code",
   "execution_count": 15,
   "id": "2d69d080-5c34-4e4a-8468-edc266041106",
   "metadata": {},
   "outputs": [
    {
     "data": {
      "image/png": "[encoded data removed]",
      "text/plain": [
       "<Figure size 600x400 with 1 Axes>"
      ]
     },
     "metadata": {},
     "output_type": "display_data"
    }
   ],
   "source": [
    "fig = plt.figure(figsize=(6,4))\n",
    "ax = fig.add_axes([0,0,1,1])\n",
    "plt.boxplot([Statistics_data,Python_data,Tableau_data],vert = 0)\n",
    "ax.set_yticklabels(['Statistics','Python','Tableau'])\n",
    "plt.show()"
   ]
  },
  {
   "cell_type": "code",
   "execution_count": 24,
   "id": "9fa87baf-03c7-4ded-9f81-daedd4ebf375",
   "metadata": {},
   "outputs": [],
   "source": [
    "#TASK5\n",
    "from scipy.stats import norm"
   ]
  },
  {
   "cell_type": "code",
   "execution_count": 28,
   "id": "5c25084c-3708-401a-8d09-3f90b1a617ab",
   "metadata": {},
   "outputs": [
    {
     "data": {
      "image/png": "[encoded data removed]",
      "text/plain": [
       "<Figure size 640x480 with 1 Axes>"
      ]
     },
     "metadata": {},
     "output_type": "display_data"
    }
   ],
   "source": [
    "Statistics_data = sorted(Statistics_data)\n",
    "Python_data = sorted(Python_data)\n",
    "Tableau_data = sorted(Tableau_data)\n",
    "\n",
    "plt.title('distribution curve')\n",
    "\n",
    "S_mean = st.mean(Statistics_data)\n",
    "S_SD = st.stdev(Statistics_data)\n",
    "P_mean = st.mean(Python_data)\n",
    "P_SD = st.stdev(Python_data)\n",
    "T_mean = st.mean(Tableau_data)\n",
    "T_SD = st.stdev(Tableau_data)\n",
    "\n",
    "plt.plot(Statistics_data,norm.pdf(Statistics_data,S_mean,S_SD),color = 'green',label = 'Statistics')\n",
    "plt.plot(Python_data,norm.pdf(Python_data,P_mean,P_SD),color = 'orange',label = 'Python')\n",
    "plt.plot(Tableau_data,norm.pdf(Tableau_data,T_mean,T_SD),color = 'blue',label = 'Tableau')\n",
    "\n",
    "plt.legend()\n",
    "\n",
    "plt.show()"
   ]
  },
  {
   "cell_type": "code",
   "execution_count": 30,
   "id": "404479cb-2c79-4b3f-9dca-c8d9d3967e92",
   "metadata": {},
   "outputs": [],
   "source": [
    "from scipy.stats import kurtosis"
   ]
  },
  {
   "cell_type": "code",
   "execution_count": 32,
   "id": "a257d007-19e3-4206-9542-07e2ce00afdd",
   "metadata": {},
   "outputs": [
    {
     "name": "stdout",
     "output_type": "stream",
     "text": [
      "kurtosis of Statistics: -1.2890343729055107\n",
      "kurtosis of Python: -1.2748529079288784\n",
      "kurtosis of Tableau: 1.442459054422362\n"
     ]
    }
   ],
   "source": [
    "print('kurtosis of Statistics:',kurtosis(Statistics_data))\n",
    "print('kurtosis of Python:',kurtosis(Python_data))\n",
    "print('kurtosis of Tableau:',kurtosis(Tableau_data))"
   ]
  },
  {
   "cell_type": "code",
   "execution_count": null,
   "id": "23a5181a-dcf3-430f-8e1d-63e8a612cfb1",
   "metadata": {},
   "outputs": [],
   "source": []
  }
 ],
 "metadata": {
  "kernelspec": {
   "display_name": "Python 3 (ipykernel)",
   "language": "python",
   "name": "python3"
  },
  "language_info": {
   "codemirror_mode": {
    "name": "ipython",
    "version": 3
   },
   "file_extension": ".py",
   "mimetype": "text/x-python",
   "name": "python",
   "nbconvert_exporter": "python",
   "pygments_lexer": "ipython3",
   "version": "3.12.4"
  }
 },
 "nbformat": 4,
 "nbformat_minor": 5
}
